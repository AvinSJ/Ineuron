{
 "cells": [
  {
   "cell_type": "markdown",
   "metadata": {},
   "source": [
    "1. Write a function that takes a list of lists and returns the value of all of the\n",
    "symbols in it, where each symbol adds or takes something from the total\n",
    "score. Symbol values:\n",
    "\n",
    "O = 3\n",
    "X = 1\n",
    "! = -1\n",
    "!! = -3\n",
    "!!! = -5\n",
    "A list of lists containing 2 #s, a O, and a !!! would equal (0 + 5 + 5 + 3 - 5) 8.\n",
    "If the final score is negative, return 0 (e.g. 3 #s, 3 !!s, 2 !!!s and a X would be\n",
    "(0 + 5 + 5 + 5 - 3 - 3 - 3 - 5 - 5 + 1) -3, so return 0.\n",
    "Examples\n",
    "check_score([\n",
    "[&quot;#&quot;, &quot;!&quot;],\n",
    "[&quot;!!&quot;, &quot;X&quot;]\n",
    "]) ➞ 2\n",
    "check_score([\n",
    "[&quot;!!!&quot;, &quot;O&quot;, &quot;!&quot;],\n",
    "[&quot;X&quot;, &quot;#&quot;, &quot;!!!&quot;],\n",
    "[&quot;!!&quot;, &quot;X&quot;, &quot;O&quot;]\n",
    "])\n"
   ]
  },
  {
   "cell_type": "code",
   "execution_count": 159,
   "metadata": {},
   "outputs": [
    {
     "name": "stdout",
     "output_type": "stream",
     "text": [
      "0\n",
      "2\n"
     ]
    }
   ],
   "source": [
    "def check_score(*ipt):\n",
    "    n=len(ipt)\n",
    "    has,exl,O,X=0,0,0,0\n",
    "    \n",
    "    for a in range(n):\n",
    "        if ipt[a]:\n",
    "            for i in ipt[a]:\n",
    "                for j in i:\n",
    "                    if j==\"!\":\n",
    "                        exl-=1\n",
    "                    if j==\"!!\":\n",
    "                        exl-=3\n",
    "                    if j==\"!!!\":\n",
    "                        exl-=5\n",
    "                    if j==\"#\":\n",
    "                        has+=5\n",
    "                    if j==\"O\":\n",
    "                        O+=3\n",
    "                    if j==\"X\":\n",
    "                        X+=1\n",
    "                        \n",
    "    score= has + exl + O + X\n",
    "    if score >=0:\n",
    "        return score\n",
    "    else:\n",
    "        return 0\n",
    "\n",
    "\n",
    "print(check_score([ [\"!!!\", \"O\", \"!\"], [\"X\", \"#\", \"!!!\"], [\"!!\", \"X\", \"O\"] ]))\n",
    "print(check_score([[\"#\",\"!\"],[\"!!\",\"X\"]]))\n",
    "\n"
   ]
  },
  {
   "cell_type": "markdown",
   "metadata": {},
   "source": [
    "2. Create a function that takes a variable number of arguments, each\n",
    "argument representing the number of items in a group, and returns the\n",
    "number of permutations (combinations) of items that you could get by taking\n",
    "one item from each group.\n",
    "Examples\n",
    "combinations(2, 3) ➞ 6\n",
    "combinations(3, 7, 4) ➞ 84\n",
    "combinations(2, 3, 4, 5) ➞ 120"
   ]
  },
  {
   "cell_type": "code",
   "execution_count": 190,
   "metadata": {},
   "outputs": [
    {
     "name": "stdout",
     "output_type": "stream",
     "text": [
      "6\n",
      "84\n",
      "120\n"
     ]
    }
   ],
   "source": [
    "def combinations(*args):\n",
    "    l=1\n",
    "    for i in args:\n",
    "        l*=i\n",
    "    return l\n",
    "        \n",
    "print(combinations(2,3))\n",
    "print(combinations(3,7,4))\n",
    "print(combinations(2,3,4,5))"
   ]
  },
  {
   "cell_type": "markdown",
   "metadata": {},
   "source": [
    "3. Create a function that takes a string as an argument and returns the Morse\n",
    "code equivalent.\n",
    "Examples\n",
    "encode_morse(&quot;EDABBIT CHALLENGE&quot;) ➞ &quot;. -.. .- -... -... .. - -.-. .... .- .-.. .-..\n",
    ". -. --. .&quot;\n",
    "encode_morse(&quot;HELP ME !&quot;) ➞ &quot;.... . .-.. .--. -- . -.-.--&quot;\n"
   ]
  },
  {
   "cell_type": "code",
   "execution_count": 62,
   "metadata": {},
   "outputs": [
    {
     "name": "stdout",
     "output_type": "stream",
     "text": [
      "The Encrypted code :  .... . .-.. .-.. ---   --. --- --- -.. -- --- .-. -. .. -. --. \n",
      "The Code decrypeter :  HELLO GOODMORNING\n"
     ]
    }
   ],
   "source": [
    "char_to_dots = { 'A': '.-', 'B': '-...', \n",
    "                'C': '-.-.', 'D': '-..', 'E': '.',\n",
    "                'F': '..-.', 'G': '--.', 'H': '....', \n",
    "                'I': '..', 'J': '.---', 'K': '-.-', \n",
    "                'L': '.-..', 'M': '--', 'N': '-.', \n",
    "                'O': '---', 'P': '.--.', 'Q': '--.-', \n",
    "                'R': '.-.', 'S': '...', 'T': '-', \n",
    "                'U': '..-', 'V': '...-', 'W': '.--', \n",
    "                'X': '-..-', 'Y': '-.--', 'Z': '--..', \n",
    "                ' ': ' ','0': '-----', '1': '.----', \n",
    "                '2': '..---', '3': '...--', '4': '....-',\n",
    "                '5': '.....', '6': '-....', '7': '--...', \n",
    "                '8': '---..', '9': '----.', '&': '.-...',\n",
    "                \"'\": '.----.', '@': '.--.-.', ')': '-.--.-', \n",
    "                '(': '-.--.', ':': '---...', ',': '--..--', '=': '-...-', \n",
    "                '!': '-.-.--', '.': '.-.-.-', '-': '-....-', '+': '.-.-.', \n",
    "                '\"': '.-..-.', '?': '..--..', '/': '-..-.' }\n",
    "\n",
    "def encrypt(s):\n",
    "    moorse=\"\"\n",
    "    for letters in s:\n",
    "        if letters in char_to_dots:\n",
    "            moorse+= char_to_dots[letters] + \" \"\n",
    "            \n",
    "    return moorse\n",
    "\n",
    "\n",
    "        \n",
    "def decrypt(s):\n",
    "    s+=\"\"\n",
    "    decipher=\"\"\n",
    "    text=\"\"\n",
    "\n",
    "    for letter in s:\n",
    "        if letter!=\" \":\n",
    "            i=0\n",
    "            text+=letter\n",
    "        else:\n",
    "            i+=1\n",
    "\n",
    "            if i==2:\n",
    "                decipher+=\" \"\n",
    "            else:\n",
    "                decipher+= list(char_to_dots.keys())[list(char_to_dots.values()).index(text)]\n",
    "                text=\"\"\n",
    "\n",
    "    return decipher          \n",
    "            \n",
    "\n",
    "s=\"HELLO GOODMORNING\"\n",
    "print(\"The Encrypted code : \",encrypt(s))\n",
    "print(\"The Code decrypeter : \",decrypt('.... . .-.. .-.. ---  --. --- --- -.. -- --- .-. -. .. -. --. '))"
   ]
  },
  {
   "cell_type": "markdown",
   "metadata": {},
   "source": [
    "4. Write a function that takes a number and returns True if it&#39;s a prime; False\n",
    "otherwise. The number can be 2^64-1 (2 to the power of 63, not XOR). With\n",
    "the standard technique it would be O(2^64-1), which is much too large for the\n",
    "10 second time limit.\n",
    "Examples\n",
    "prime(7) ➞ True\n",
    "prime(56963) ➞ True\n",
    "prime(5151512515524) ➞ False"
   ]
  },
  {
   "cell_type": "code",
   "execution_count": 101,
   "metadata": {},
   "outputs": [
    {
     "name": "stdout",
     "output_type": "stream",
     "text": [
      "True\n",
      "True\n",
      "False\n"
     ]
    }
   ],
   "source": [
    "def check_prime(n):\n",
    "    for i in range(2,n):\n",
    "        if n%i==0:\n",
    "            return False\n",
    "        else: \n",
    "            return True\n",
    "        \n",
    "print(check_prime(7))\n",
    "print(check_prime(56963))\n",
    "print(check_prime(5151512515524))"
   ]
  },
  {
   "cell_type": "markdown",
   "metadata": {},
   "source": [
    "#### 5. Create a function that converts a word to a bitstring and then to a boolean\n",
    "list based on the following criteria:\n",
    "1. Locate the position of the letter in the English alphabet (from 1 to 26).\n",
    "2. Odd positions will be represented as 1 and 0 otherwise.\n",
    "3. Convert the represented positions to boolean values, 1 for True and 0\n",
    "for False.\n",
    "4. Store the conversions into an array.\n",
    "Examples\n",
    "to_boolean_list(&quot;deep&quot;) ➞ [False, True, True, False]\n",
    " deep converts to 0110\n",
    " d is the 4th alphabet - 0\n",
    " e is the 5th alphabet - 1\n",
    " e is the 5th alphabet - 1\n",
    " p is the 16th alphabet - 0\n",
    "to_boolean_list(&quot;loves&quot;) ➞ [False, True, False, True, True]\n",
    "to_boolean_list(&quot;tesh&quot;) ➞ [False, True, True, False]"
   ]
  },
  {
   "cell_type": "code",
   "execution_count": 91,
   "metadata": {},
   "outputs": [
    {
     "name": "stdout",
     "output_type": "stream",
     "text": [
      "The Boolean Values for \"deep is [False, True, True, False]\n",
      "The Boolean Value for \"loves is [False, True, False, True, True]\n",
      "The Boolean Values for \"tesh is [False, True, True, False]\n"
     ]
    }
   ],
   "source": [
    "def boolean_list(word):\n",
    "    pos=[]\n",
    "    for i in word:\n",
    "        pos.append(ord(i) & 31)\n",
    "    \n",
    "    bit=[]\n",
    "    for i in pos:\n",
    "        if i%2 == 0:\n",
    "            bit.append(0)\n",
    "        else:\n",
    "            bit.append(1)\n",
    "            \n",
    "    boolean=[]\n",
    "    for k in bit:\n",
    "        if k==0:\n",
    "            boolean.append(False)\n",
    "        else:\n",
    "            boolean.append(True)\n",
    "    return boolean\n",
    "    \n",
    "print(\"The Boolean Values for \\\"deep\" \" is\",boolean_list(\"deep\")) \n",
    "print(\"The Boolean Value for \\\"loves\" \" is\",boolean_list(\"loves\"))\n",
    "print(\"The Boolean Values for \\\"tesh\" \" is\",boolean_list(\"tesh\"))"
   ]
  }
 ],
 "metadata": {
  "kernelspec": {
   "display_name": "Python 3",
   "language": "python",
   "name": "python3"
  },
  "language_info": {
   "codemirror_mode": {
    "name": "ipython",
    "version": 3
   },
   "file_extension": ".py",
   "mimetype": "text/x-python",
   "name": "python",
   "nbconvert_exporter": "python",
   "pygments_lexer": "ipython3",
   "version": "3.8.5"
  }
 },
 "nbformat": 4,
 "nbformat_minor": 4
}
