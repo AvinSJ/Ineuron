{
 "cells": [
  {
   "cell_type": "markdown",
   "metadata": {},
   "source": [
    "1. What does RGBA stand for?"
   ]
  },
  {
   "cell_type": "markdown",
   "metadata": {},
   "source": [
    "Answer:\n",
    "\n",
    "        Red-Green-Blue-Alpha"
   ]
  },
  {
   "cell_type": "markdown",
   "metadata": {},
   "source": [
    "2. From the Pillow module, how do you get the RGBA value of any images?"
   ]
  },
  {
   "cell_type": "code",
   "execution_count": 40,
   "metadata": {},
   "outputs": [
    {
     "name": "stdout",
     "output_type": "stream",
     "text": [
      "(30, 38, 17, 255)\n",
      "(29, 37, 16, 255)\n",
      "(28, 36, 15, 255)\n",
      "(27, 35, 14, 255)\n",
      "(26, 34, 11, 255)\n",
      "(26, 34, 11, 255)\n",
      "(25, 35, 11, 255)\n",
      "(26, 36, 12, 255)\n",
      "(25, 35, 11, 255)\n",
      "(25, 35, 11, 255)\n",
      "(25, 35, 10, 255)\n",
      "(25, 35, 10, 255)\n",
      "(24, 37, 11, 255)\n",
      "(25, 38, 12, 255)\n",
      "(26, 39, 13, 255)\n",
      "(26, 39, 13, 255)\n",
      "(26, 42, 13, 255)\n",
      "(26, 42, 13, 255)\n",
      "(26, 42, 13, 255)\n",
      "(27, 44, 12, 255)\n"
     ]
    }
   ],
   "source": [
    "from PIL import Image\n",
    "img = Image.open('image.jpg')\n",
    "\n",
    "rgba = img.convert('RGBA')\n",
    "\n",
    "datas = rgba.getdata()\n",
    "for i in range(20):\n",
    "    print(datas[i])"
   ]
  },
  {
   "cell_type": "markdown",
   "metadata": {},
   "source": [
    "3. What is a box tuple, and how does it work?"
   ]
  },
  {
   "cell_type": "markdown",
   "metadata": {},
   "source": [
    "Answer:\n",
    "        \n",
    "        Image pixels are addressed with x- and y-coordinates, which respectively specify a pixel’s horizontal and \n",
    "    vertical location in an image .Box tuple means Pillow is expecting a tuple of four integer coordinates that represents \n",
    "    a rectangular region in an image.The tuples contain coordinates to Left,Top,Right and Bottom of the image."
   ]
  },
  {
   "cell_type": "markdown",
   "metadata": {},
   "source": [
    "4. Use your image and load in notebook then, How can you find out the width and height of an\n",
    "Image object?"
   ]
  },
  {
   "cell_type": "code",
   "execution_count": 19,
   "metadata": {},
   "outputs": [
    {
     "name": "stdout",
     "output_type": "stream",
     "text": [
      "400 400\n"
     ]
    }
   ],
   "source": [
    "image = Image.open(\"image.jpg\")\n",
    "\n",
    "width, height = image.size\n",
    "\n",
    "print(width, height)"
   ]
  },
  {
   "cell_type": "markdown",
   "metadata": {},
   "source": [
    "5. What method would you call to get Image object for a 100×100 image, excluding the lower-left\n",
    "quarter of it?"
   ]
  },
  {
   "cell_type": "markdown",
   "metadata": {},
   "source": [
    "Answer:\n",
    "\n",
    "        image.crop(0,50,50,50)\n",
    "\n",
    "        "
   ]
  },
  {
   "cell_type": "markdown",
   "metadata": {},
   "source": [
    "6. After making changes to an Image object, how could you save it as an image file?"
   ]
  },
  {
   "cell_type": "markdown",
   "metadata": {},
   "source": [
    "Answer:\n",
    "\n",
    "            image.save('name_of_file.png\") function is used to save the image file.\n"
   ]
  },
  {
   "cell_type": "markdown",
   "metadata": {},
   "source": [
    "7. What module contains Pillow’s shape-drawing code?"
   ]
  },
  {
   "cell_type": "markdown",
   "metadata": {},
   "source": [
    "Answer:\n",
    "\n",
    "        ImageDraw contains shape=drawing code\n",
    "    \n",
    "        "
   ]
  },
  {
   "cell_type": "markdown",
   "metadata": {},
   "source": [
    "8. Image objects do not have drawing methods. What kind of object does? How do you get this kind\n",
    "of object?"
   ]
  },
  {
   "cell_type": "markdown",
   "metadata": {},
   "source": [
    "Answer:\n",
    "\n",
    "        Image Objects can be passed to the ImageDraw.Draw() funciton. It is a A simple 2D drawing interface \n",
    "        for PIL images. \n",
    "        "
   ]
  }
 ],
 "metadata": {
  "kernelspec": {
   "display_name": "Python 3",
   "language": "python",
   "name": "python3"
  },
  "language_info": {
   "codemirror_mode": {
    "name": "ipython",
    "version": 3
   },
   "file_extension": ".py",
   "mimetype": "text/x-python",
   "name": "python",
   "nbconvert_exporter": "python",
   "pygments_lexer": "ipython3",
   "version": "3.8.5"
  }
 },
 "nbformat": 4,
 "nbformat_minor": 4
}
