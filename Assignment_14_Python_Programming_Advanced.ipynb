{
 "cells": [
  {
   "cell_type": "markdown",
   "metadata": {},
   "source": [
    "1. Given a list of numbers, create a function that removes 25% from every\n",
    "number in the list except the smallest number, and adds the total amount\n",
    "removed to the smallest number.\n",
    "Examples\n",
    "show_the_love([4, 1, 4]) ➞ [3, 3, 3]\n",
    "show_the_love([16, 10, 8]) ➞ [12, 7.5, 14.5]\n",
    "show_the_love([2, 100]) ➞ [27, 75]"
   ]
  },
  {
   "cell_type": "code",
   "execution_count": 63,
   "metadata": {},
   "outputs": [
    {
     "name": "stdout",
     "output_type": "stream",
     "text": [
      "[3.0, 3.0, 3.0]\n",
      "[12.0, 7.5, 14.5]\n",
      "[75.0, 27.0]\n"
     ]
    }
   ],
   "source": [
    "def reduced_num(n):\n",
    "    p=n/100 * 25\n",
    "    n=n-p\n",
    "    return n,p\n",
    "\n",
    "def show_the_love(l):\n",
    "    new=[]\n",
    "    smallest_number=min(l)\n",
    "    l.remove(smallest_number)\n",
    "    for i in l:\n",
    "        r_num=reduced_num(i)\n",
    "        new.append(r_num[0])\n",
    "        smallest_number+=r_num[1]\n",
    "    new.append(smallest_number)\n",
    "    return new\n",
    "print(show_the_love([4, 1, 4])) \n",
    "print(show_the_love([16, 10, 8]))\n",
    "print(show_the_love([2, 100]) )"
   ]
  },
  {
   "cell_type": "markdown",
   "metadata": {},
   "source": [
    "2. Create a function that takes in two words as input and returns a list of three\n",
    "elements, in the following order:\n",
    ".Shared letters between two words.\n",
    ".Letters unique to word 1.\n",
    ".Letters unique to word 2.\n",
    "Each element should have unique letters, and have each letter be\n",
    "alphabetically sorted.\n",
    "Examples\n",
    "letters(&quot;sharp&quot;, &quot;soap&quot;) ➞ [&quot;aps&quot;, &quot;hr&quot;, &quot;o&quot;]\n",
    "letters(&quot;board&quot;, &quot;bored&quot;) ➞ [&quot;bdor&quot;, &quot;a&quot;, &quot;e&quot;]\n",
    "letters(&quot;happiness&quot;, &quot;envelope&quot;) ➞ [&quot;enp&quot;, &quot;ahis&quot;, &quot;lov&quot;]\n",
    "letters(&quot;kerfuffle&quot;, &quot;fluffy&quot;) ➞ [&quot;flu&quot;, &quot;ekr&quot;, &quot;y&quot;]\n",
    " Even with multiple matching letters (e.g. 3 f&#39;s), there should\n",
    " only exist a single &quot;f&quot; in your first element.\n",
    "letters(&quot;match&quot;, &quot;ham&quot;) ➞ [&quot;ahm&quot;, &quot;ct&quot;, &quot;&quot;]\n",
    " &quot;ham&quot; does not contain any letters that are not found already\n",
    " in &quot;match&quot;."
   ]
  },
  {
   "cell_type": "code",
   "execution_count": 121,
   "metadata": {},
   "outputs": [
    {
     "name": "stdout",
     "output_type": "stream",
     "text": [
      "['aps', 'hr', 'o']\n",
      "['bdor', 'a', 'e']\n",
      "['enp', 'ahis', 'lov']\n",
      "['flu', 'ekr', 'y']\n",
      "['ahm', 'ct', '']\n"
     ]
    }
   ],
   "source": [
    "def letters(word_1,word_2):\n",
    "    shared=set()\n",
    "    unique_1=set()\n",
    "    unique_2=set()\n",
    "    \n",
    "    \n",
    "    for i in word_1:\n",
    "        if i in word_2:\n",
    "            shared.add(i)\n",
    "        else:\n",
    "            unique_1.add(i)\n",
    "            \n",
    "    for i in word_2:\n",
    "        if i not in word_1:\n",
    "            unique_2.add(i)\n",
    "    \n",
    "            \n",
    "            \n",
    "    \n",
    "            \n",
    "    shared=\"\".join(sorted(shared))\n",
    "    unique_1=\"\".join(sorted(unique_1))\n",
    "    unique_2=\"\".join(sorted(unique_2))\n",
    "    \n",
    "    return [shared,unique_1,unique_2]\n",
    "            \n",
    "print(letters(\"sharp\", \"soap\"))    \n",
    "print(letters(\"board\", \"bored\"))\n",
    "print(letters(\"happiness\", \"envelope\") )\n",
    "print(letters(\"kerfuffle\", \"fluffy\"))\n",
    "print(letters(\"match\", \"ham\"))"
   ]
  },
  {
   "cell_type": "markdown",
   "metadata": {},
   "source": [
    "3. Write a function that pairs the first number in an array with the last, the\n",
    "second number with the second to last, etc.\n",
    "Examples\n",
    "pairs([1, 2, 3, 4, 5, 6, 7]) ➞ [[1, 7], [2, 6], [3, 5], [4, 4]]\n",
    "\n",
    "pairs([1, 2, 3, 4, 5, 6]) ➞ [[1, 6], [2, 5], [3, 4]]\n",
    "pairs([5, 9, 8, 1, 2]) ➞ [[5, 2], [9, 1], [8, 8]]\n",
    "pairs([]) ➞ []"
   ]
  },
  {
   "cell_type": "markdown",
   "metadata": {},
   "source": [
    "from math import ceil\n",
    "def pairs(l):\n",
    "    n=len(l)\n",
    "    length=-1\n",
    "    new=[]\n",
    "    mid=ceil(n/2)\n",
    "    for i in range(n):\n",
    "        new.append([l[i],l[length]])\n",
    "        length-=1\n",
    "    \n",
    "    return new[:mid]\n",
    "print(pairs([1, 2, 3, 4, 5, 6]))\n",
    "print(pairs([1, 2, 3, 4, 5, 6, 7]))\n",
    "print(pairs([5, 9, 8, 1, 2]) )\n",
    "print(pairs([]) )"
   ]
  },
  {
   "cell_type": "markdown",
   "metadata": {},
   "source": [
    "4. Write a function that adds two numbers. The catch, however, is that the\n",
    "numbers will be strings.\n",
    "Examples\n",
    "add_str_nums(&quot;4&quot;, &quot;5&quot;) ➞ &quot;9&quot;\n",
    "add_str_nums(&quot;abcdefg&quot;, &quot;3&quot;) ➞ &quot;-1&quot;\n",
    "add_str_nums(&quot;1&quot;, &quot;&quot;) ➞ &quot;1&quot;\n",
    "add_str_nums(&quot;1874682736267235927359283579235789257&quot;,\n",
    "&quot;32652983572985729&quot;) ➞ &quot;1874682736267235927391936562808774986&quot;"
   ]
  },
  {
   "cell_type": "code",
   "execution_count": 241,
   "metadata": {},
   "outputs": [
    {
     "name": "stdout",
     "output_type": "stream",
     "text": [
      "9\n",
      "-1\n",
      "1\n",
      "1874682736267235927391936562808774986\n"
     ]
    }
   ],
   "source": [
    "def is_num(digit):\n",
    "    for n in digit:\n",
    "        if (ord(n) > 48) and (ord(n) < 57):\n",
    "            return True\n",
    "        else:\n",
    "            return False\n",
    "\n",
    "def add_str_nums(a,b):\n",
    "    \n",
    "    if a ==\"\":\n",
    "        return b\n",
    "    elif b==\"\":\n",
    "        return a\n",
    "    \n",
    "    if is_num(a) and is_num(b):        \n",
    "        add=int(a) + int(b)\n",
    "        return str(add)\n",
    "    else:\n",
    "        return -1\n",
    "print(add_str_nums(\"4\", \"5\"))\n",
    "print(add_str_nums(\"abcdefg\", \"3\"))\n",
    "print(add_str_nums(\"1\", \"\"))\n",
    "print(add_str_nums(\"1874682736267235927359283579235789257\", \"32652983572985729\"))"
   ]
  },
  {
   "cell_type": "markdown",
   "metadata": {},
   "source": [
    "5. lPaeesh le pemu mnxit ehess rtnisg! Oh, sorry, that was supposed to say:\n",
    "Please help me unmix these strings!\n",
    "Somehow my strings have all become mixed up; every pair of characters has\n",
    "been swapped. Help me undo this so I can understand my strings again.\n",
    "Examples\n",
    "unmix(&quot;123456&quot;) ➞ &quot;214365&quot;\n",
    "unmix(&quot;hTsii s aimex dpus rtni.g&quot;) ➞ &quot;This is a mixed up string.&quot;\n",
    "unmix(&quot;badce&quot;) ➞ &quot;abcde&quot;"
   ]
  },
  {
   "cell_type": "code",
   "execution_count": 454,
   "metadata": {},
   "outputs": [
    {
     "name": "stdout",
     "output_type": "stream",
     "text": [
      "214365\n",
      "Thisi  s amixe dups tring\n",
      "abcde\n"
     ]
    }
   ],
   "source": [
    "def unmix(s):\n",
    "    n=len(s)\n",
    "    s=list(s)\n",
    "    for i in range(0,n-1,2):\n",
    "        temp=s[i]\n",
    "        s[i]=s[i+1]\n",
    "        s[i+1]=temp\n",
    "\n",
    "    return \"\".join(s)\n",
    "\n",
    "print(unmix(\"123456\"))\n",
    "print(unmix('hTsi is a imexd pu srtnig'))\n",
    "print(unmix(\"badce\"))"
   ]
  },
  {
   "cell_type": "code",
   "execution_count": null,
   "metadata": {},
   "outputs": [],
   "source": []
  }
 ],
 "metadata": {
  "kernelspec": {
   "display_name": "Python 3",
   "language": "python",
   "name": "python3"
  },
  "language_info": {
   "codemirror_mode": {
    "name": "ipython",
    "version": 3
   },
   "file_extension": ".py",
   "mimetype": "text/x-python",
   "name": "python",
   "nbconvert_exporter": "python",
   "pygments_lexer": "ipython3",
   "version": "3.8.5"
  }
 },
 "nbformat": 4,
 "nbformat_minor": 4
}
