{
 "cells": [
  {
   "cell_type": "markdown",
   "metadata": {},
   "source": [
    "1. Write a Python program to print &quot;Hello Python&quot;?"
   ]
  },
  {
   "cell_type": "code",
   "execution_count": 1,
   "metadata": {},
   "outputs": [
    {
     "name": "stdout",
     "output_type": "stream",
     "text": [
      "Hello World\n"
     ]
    }
   ],
   "source": [
    "print(\"Hello World\")"
   ]
  },
  {
   "cell_type": "markdown",
   "metadata": {},
   "source": [
    "2. Write a Python program to do arithmetical operations addition and division.?"
   ]
  },
  {
   "cell_type": "code",
   "execution_count": 73,
   "metadata": {},
   "outputs": [
    {
     "name": "stdout",
     "output_type": "stream",
     "text": [
      "Enter a number  : 5\n",
      "Enter another number : 10\n",
      "\n",
      "\n",
      " Addition of 5 and 10 is : 15  \n",
      "\n",
      " 5 Divided by 10 is : 0.5 \n"
     ]
    }
   ],
   "source": [
    "def add(a,b):\n",
    "    #function to add two numbers\n",
    "    return a+b\n",
    "\n",
    "def division(a,b):\n",
    "    #function to divide two numbers\n",
    "    return a/b\n",
    "    \n",
    "a=int(input(\"Enter a number  : \"))\n",
    "b=int(input(\"Enter another number : \"))\n",
    "\n",
    "\n",
    "print(f'\\n\\n Addition of {a} and {b} is : {add(a,b)}  ')\n",
    "print(\"\\n {a} Divided by {b} is : {c} \".format(a=a,b=b,c=division(a,b)))"
   ]
  },
  {
   "cell_type": "markdown",
   "metadata": {},
   "source": [
    "3. Write a Python program to find the area of a triangle?"
   ]
  },
  {
   "cell_type": "code",
   "execution_count": 74,
   "metadata": {},
   "outputs": [
    {
     "name": "stdout",
     "output_type": "stream",
     "text": [
      "Enter 1st side : 8\n",
      "Enter 2nd side : 6\n",
      "Enter 3rd side : 4\n",
      "The area of the triangle is : 11.62\n"
     ]
    }
   ],
   "source": [
    "a=float(input(\"Enter 1st side : \"))\n",
    "b=float(input(\"Enter 2nd side : \"))\n",
    "c=float(input(\"Enter 3rd side : \"))\n",
    "\n",
    "#To calculate the semi-paramenter\n",
    "s=(a+b+c)/2\n",
    "\n",
    "#To calculate Area\n",
    "area= (s*(s-a)*(s-b)*(s-c))**0.5\n",
    "print(\"The area of the triangle is : %.2f\"%area)"
   ]
  },
  {
   "cell_type": "markdown",
   "metadata": {},
   "source": [
    "4. Write a Python program to swap two variables?"
   ]
  },
  {
   "cell_type": "code",
   "execution_count": 77,
   "metadata": {},
   "outputs": [
    {
     "name": "stdout",
     "output_type": "stream",
     "text": [
      "Enter X : 23\n",
      "Enter Y : 64\n",
      "X before swapping 23 and Y before swapping is 64\n",
      "X after Swapping 64 and Y after swapping 23\n"
     ]
    }
   ],
   "source": [
    "x=int(input(\"Enter X : \"))\n",
    "y=int(input(\"Enter Y : \"))\n",
    "\n",
    "print(f'X before swapping {x} and Y before swapping is {y}')\n",
    "\n",
    "x,y=y,x\n",
    "\n",
    "print(f'X after Swapping {x} and Y after swapping {y}')\n",
    "\n",
    "\n"
   ]
  },
  {
   "cell_type": "markdown",
   "metadata": {},
   "source": [
    "5. Write a Python program to generate a random number?"
   ]
  },
  {
   "cell_type": "code",
   "execution_count": 72,
   "metadata": {},
   "outputs": [
    {
     "data": {
      "text/plain": [
       "536"
      ]
     },
     "execution_count": 72,
     "metadata": {},
     "output_type": "execute_result"
    }
   ],
   "source": [
    "import random\n",
    "random.randint(0,1200)"
   ]
  },
  {
   "cell_type": "code",
   "execution_count": null,
   "metadata": {},
   "outputs": [],
   "source": []
  },
  {
   "cell_type": "code",
   "execution_count": null,
   "metadata": {},
   "outputs": [],
   "source": []
  },
  {
   "cell_type": "code",
   "execution_count": null,
   "metadata": {},
   "outputs": [],
   "source": []
  },
  {
   "cell_type": "code",
   "execution_count": null,
   "metadata": {},
   "outputs": [],
   "source": []
  }
 ],
 "metadata": {
  "kernelspec": {
   "display_name": "Python 3",
   "language": "python",
   "name": "python3"
  },
  "language_info": {
   "codemirror_mode": {
    "name": "ipython",
    "version": 3
   },
   "file_extension": ".py",
   "mimetype": "text/x-python",
   "name": "python",
   "nbconvert_exporter": "python",
   "pygments_lexer": "ipython3",
   "version": "3.8.5"
  }
 },
 "nbformat": 4,
 "nbformat_minor": 4
}
