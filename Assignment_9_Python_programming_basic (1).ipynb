{
 "cells": [
  {
   "cell_type": "markdown",
   "metadata": {},
   "source": [
    "1. Write a Python program to check if the given number is a Disarium Number?"
   ]
  },
  {
   "cell_type": "code",
   "execution_count": 1,
   "metadata": {},
   "outputs": [
    {
     "name": "stdout",
     "output_type": "stream",
     "text": [
      "518 is a Disarium Number \n",
      " 317 is not a Disarium Number \n",
      " 175 is a Disarium Number \n",
      " 820 is not a Disarium Number \n",
      "\n"
     ]
    }
   ],
   "source": [
    "def disarium(n):\n",
    "    \n",
    "    count=len(str(n))\n",
    "    \n",
    "\n",
    "    \n",
    "    add=0\n",
    "    x=n\n",
    "    \n",
    "    while (x!=0):\n",
    "        \n",
    "        r=x%10\n",
    "        add+= pow(r,count)\n",
    "        count=count- 1\n",
    "        x=x//10\n",
    "        \n",
    "    if add==n:\n",
    "        return \"{} is a Disarium Number \\n\".format(n)\n",
    "    else:\n",
    "        return \"{} is not a Disarium Number \\n\".format(n)\n",
    "\n",
    "print(disarium(518),disarium(317),disarium(175),disarium(820))"
   ]
  },
  {
   "cell_type": "markdown",
   "metadata": {},
   "source": [
    "2. Write a Python program to print all disarium numbers between 1 to 100?"
   ]
  },
  {
   "cell_type": "code",
   "execution_count": 2,
   "metadata": {},
   "outputs": [
    {
     "name": "stdout",
     "output_type": "stream",
     "text": [
      "1 is a Disarium Number \n",
      "2 is a Disarium Number \n",
      "3 is a Disarium Number \n",
      "4 is a Disarium Number \n",
      "5 is a Disarium Number \n",
      "6 is a Disarium Number \n",
      "7 is a Disarium Number \n",
      "8 is a Disarium Number \n",
      "9 is a Disarium Number \n",
      "89 is a Disarium Number \n"
     ]
    }
   ],
   "source": [
    "def disarium(n):\n",
    "    \n",
    "    count=len(str(n))\n",
    "    \n",
    "\n",
    "    \n",
    "    add=0\n",
    "    x=n\n",
    "    \n",
    "    while (x!=0):\n",
    "        \n",
    "        r=x%10\n",
    "        add+= pow(r,count)\n",
    "        count=count- 1\n",
    "        x=x//10\n",
    "        \n",
    "    if add==n:\n",
    "        return True\n",
    "    else:\n",
    "        return False\n",
    "\n",
    "\n",
    "for i in range(1,101):\n",
    "    if disarium(i)==True:\n",
    "        print(i, \"is a Disarium Number \")"
   ]
  },
  {
   "cell_type": "markdown",
   "metadata": {},
   "source": [
    "3. Write a Python program to check if the given number is Happy Number?"
   ]
  },
  {
   "cell_type": "code",
   "execution_count": 3,
   "metadata": {},
   "outputs": [
    {
     "data": {
      "text/plain": [
       "True"
      ]
     },
     "execution_count": 3,
     "metadata": {},
     "output_type": "execute_result"
    }
   ],
   "source": [
    "def is_happy(n):\n",
    "    def square_sum(n):\n",
    "        squaresum = 0\n",
    "        while(n):\n",
    "            squaresum += (n % 10) * (n % 10);\n",
    "            n = int(n / 10);\n",
    "        return squaresum\n",
    "\n",
    "    seen=set()\n",
    "    while square_sum(n) not in seen:\n",
    "        sum_1=square_sum(n)\n",
    "        if sum_1==1:\n",
    "            return True\n",
    "        else:\n",
    "            seen.add(sum_1)\n",
    "            n=sum_1\n",
    "    return False\n",
    "\n",
    "is_happy(97)\n",
    "        "
   ]
  },
  {
   "cell_type": "markdown",
   "metadata": {},
   "source": [
    "4. Write a Python program to print all happy numbers between 1 and 100?"
   ]
  },
  {
   "cell_type": "code",
   "execution_count": 5,
   "metadata": {},
   "outputs": [
    {
     "name": "stdout",
     "output_type": "stream",
     "text": [
      "Happy Numbers between the given interval are  :\n",
      "1 7 10 13 19 23 28 31 32 44 49 68 70 79 82 86 91 94 97 100 "
     ]
    }
   ],
   "source": [
    "print(\"Happy Numbers between the given interval are  :\")\n",
    "for i in range(1,101):\n",
    "    if is_happy(i) is True:\n",
    "        print(i,end=' ')"
   ]
  },
  {
   "cell_type": "markdown",
   "metadata": {},
   "source": [
    "5. Write a Python program to determine whether the given number is a Harshad Number?"
   ]
  },
  {
   "cell_type": "code",
   "execution_count": 36,
   "metadata": {},
   "outputs": [
    {
     "name": "stdout",
     "output_type": "stream",
     "text": [
      "Is 22 a harshad number :  False\n",
      "Is 18 a harshad number :  True\n"
     ]
    }
   ],
   "source": [
    "def harshad(n):\n",
    "    sum_1=0\n",
    "    temp=n\n",
    "    while (temp):\n",
    "        sum_1+= temp%10\n",
    "        temp=temp//10\n",
    "    return n%sum_1==0\n",
    "\n",
    "\n",
    "print(\"Is 22 a harshad number : \",harshad(22))\n",
    "print(\"Is 18 a harshad number : \",harshad(18))\n"
   ]
  },
  {
   "cell_type": "markdown",
   "metadata": {},
   "source": [
    "6. Write a Python program to print all pronic numbers between 1 and 100?"
   ]
  },
  {
   "cell_type": "code",
   "execution_count": 37,
   "metadata": {},
   "outputs": [
    {
     "name": "stdout",
     "output_type": "stream",
     "text": [
      "Pronic numbers between the giver interval : \n",
      "2\n",
      "6\n",
      "12\n",
      "20\n",
      "30\n",
      "42\n",
      "56\n",
      "72\n",
      "90\n"
     ]
    }
   ],
   "source": [
    "def pronic(n):\n",
    "    \n",
    "    i=0\n",
    "    \n",
    "    while(i<=n):\n",
    "        if (n==i * (i+1)):\n",
    "            return True\n",
    "        i+=1\n",
    "    return False\n",
    "\n",
    "print(\"Pronic numbers between the giver interval : \")\n",
    "for i in range(1,100):\n",
    "    if pronic(i) is True:\n",
    "        print(i)"
   ]
  },
  {
   "cell_type": "code",
   "execution_count": null,
   "metadata": {},
   "outputs": [],
   "source": []
  }
 ],
 "metadata": {
  "kernelspec": {
   "display_name": "Python 3",
   "language": "python",
   "name": "python3"
  },
  "language_info": {
   "codemirror_mode": {
    "name": "ipython",
    "version": 3
   },
   "file_extension": ".py",
   "mimetype": "text/x-python",
   "name": "python",
   "nbconvert_exporter": "python",
   "pygments_lexer": "ipython3",
   "version": "3.8.5"
  }
 },
 "nbformat": 4,
 "nbformat_minor": 4
}
