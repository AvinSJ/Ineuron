{
 "cells": [
  {
   "cell_type": "markdown",
   "metadata": {},
   "source": [
    "1. What are the differences between operators and values in the following?\n",
    "*\n",
    "&#39;hello&#39;\n",
    "-87.8\n",
    "-\n",
    "/\n",
    "+\n",
    "6"
   ]
  },
  {
   "cell_type": "markdown",
   "metadata": {},
   "source": [
    "Answer:\n",
    "        \n",
    "        Operators are used to perfom operations on values.\n",
    "        * - / + are arithmetic operators and they are used to perform mathematical operations on values.\n",
    "        \n",
    "        * - Multipication\n",
    "        - - Subtraction\n",
    "        / - Division\n",
    "        + - Addition\n",
    "        \n",
    "        \n",
    "        Values are stored inside Variables.Operations can be further performed with these values.\n",
    "        'hello' -  string\n",
    "        -87.8   -  float\n",
    "          6     -  int"
   ]
  },
  {
   "cell_type": "markdown",
   "metadata": {},
   "source": [
    "2. What is the difference between string and variable?\n",
    "spam\n",
    "&#39;spam&#39;\n",
    "\n",
    "Answer:\n",
    "\n",
    "        spam   - A variable is used to store values in them.\n",
    "\n",
    "       'spam' - A string is a value enclosed within a quoation mark.\n",
    "        "
   ]
  },
  {
   "cell_type": "markdown",
   "metadata": {},
   "source": [
    "3. Describe three different data forms.\n",
    "\n",
    "Answer:\n",
    "\n",
    "        Int     - is a numerical data type and is used to define Integer numbers.\n",
    "        \n",
    "        str     - is a text data type and is used to assing values of Strings.\n",
    "        \n",
    "        bool    - is Boolean data type. They define values of either TRUE or FALSE.\n",
    "\n"
   ]
  },
  {
   "cell_type": "markdown",
   "metadata": {},
   "source": [
    "4. What makes up an expression? What are the functions of all expressions?\n",
    "\n",
    "Answer: \n",
    "\n",
    "        Expressions are what are on the right side of a variable. They are a combination of values, variables, operations               and calls to functions.\n",
    "        c = a * b     :  a multiplied by b is an expression\n",
    "        f = len(a)    :  finding the length of a is an expression.\n",
    "        z = a.sort()  :  calling another function and assigning to a variable is an expression.\n"
   ]
  },
  {
   "cell_type": "markdown",
   "metadata": {},
   "source": [
    "5. In this chapter, assignment statements such as spam = 10 were added. What&#39;s the\n",
    "difference between a declaration and an expression?\n",
    "\n",
    "Answer:\n",
    "     \n",
    "       Declaration is giving a name to the variable ( in some programming languages, type of variable is also declared)\n",
    "    Expression is the values that will be assigned to the variable.\n",
    "        \n",
    "    In the above given statement, spam = 10. spam is the name of the variable and thus is a declaration. While 10 is the             value assigned to the variable and is an expresssion.\n",
    "    \n"
   ]
  },
  {
   "cell_type": "markdown",
   "metadata": {},
   "source": [
    "6. After running the following code, what does the variable bacon contain?"
   ]
  },
  {
   "cell_type": "code",
   "execution_count": 5,
   "metadata": {},
   "outputs": [
    {
     "data": {
      "text/plain": [
       "23"
      ]
     },
     "execution_count": 5,
     "metadata": {},
     "output_type": "execute_result"
    }
   ],
   "source": [
    "bacon = 22\n",
    "bacon + 1"
   ]
  },
  {
   "cell_type": "markdown",
   "metadata": {},
   "source": [
    "7. What should the values of the following two terms be?\n",
    "  &#39;spam&#39; + &#39;spamspam&#39;\n",
    "  &#39;spam&#39; * 3"
   ]
  },
  {
   "cell_type": "code",
   "execution_count": 8,
   "metadata": {},
   "outputs": [
    {
     "data": {
      "text/plain": [
       "'spamspamspam'"
      ]
     },
     "execution_count": 8,
     "metadata": {},
     "output_type": "execute_result"
    }
   ],
   "source": [
    "'spam' + 'spamspam'"
   ]
  },
  {
   "cell_type": "code",
   "execution_count": 9,
   "metadata": {},
   "outputs": [
    {
     "data": {
      "text/plain": [
       "'spamspamspam'"
      ]
     },
     "execution_count": 9,
     "metadata": {},
     "output_type": "execute_result"
    }
   ],
   "source": [
    "'spam' * 3"
   ]
  },
  {
   "cell_type": "markdown",
   "metadata": {},
   "source": [
    "8. Why is it that eggs is a true variable name but 100 is not?\n",
    "\n",
    "Answer:\n",
    "         \n",
    "       Python only supports variable names begining with aplhabets or special characters and  does not support numerical          digits as the beginning letter for a variable.Hence eggs are a true variable and 100 is not."
   ]
  },
  {
   "cell_type": "markdown",
   "metadata": {},
   "source": [
    "9. Which of the following three functions may be used to convert a value to an integer, a\n",
    "floating-point number, or a string?\n",
    "\n",
    "Answer:\n",
    "\n",
    "        Three function that can be used to convert a value:\n",
    "        \n",
    "        int    - int(\"5\")   : This funciton is used to convert values to Integers.(The value should resemble a numerical\n",
    "                                                                                                                  digit)\n",
    "        \n",
    "        float  - float(12)  : This function converts a given value to a Floating number.(The value should be numerical)\n",
    "        \n",
    "        string - str(34)    : This funtion converts any given value to a String."
   ]
  },
  {
   "cell_type": "markdown",
   "metadata": {},
   "source": [
    "10. What is the error caused by this expression? What would you do about it?\n",
    "\n",
    "&#39;I have eaten &#39; + 99 + &#39; burritos.&#39;\n",
    "\n",
    "Answer:\n",
    "\n",
    "        The above expression raises and error because it is  a string concatenation and 99 is expressed as an integer. This can be resolved by converting 99 to a string by calling a str function.\n",
    "        \n",
    "        The corrected expression:\n",
    "            'I have eaten' + \" \" + str(99) + \" \" +  'burritos'"
   ]
  },
  {
   "cell_type": "code",
   "execution_count": null,
   "metadata": {},
   "outputs": [],
   "source": []
  },
  {
   "cell_type": "code",
   "execution_count": null,
   "metadata": {},
   "outputs": [],
   "source": []
  },
  {
   "cell_type": "code",
   "execution_count": null,
   "metadata": {},
   "outputs": [],
   "source": []
  }
 ],
 "metadata": {
  "kernelspec": {
   "display_name": "Python 3",
   "language": "python",
   "name": "python3"
  },
  "language_info": {
   "codemirror_mode": {
    "name": "ipython",
    "version": 3
   },
   "file_extension": ".py",
   "mimetype": "text/x-python",
   "name": "python",
   "nbconvert_exporter": "python",
   "pygments_lexer": "ipython3",
   "version": "3.8.5"
  }
 },
 "nbformat": 4,
 "nbformat_minor": 4
}
