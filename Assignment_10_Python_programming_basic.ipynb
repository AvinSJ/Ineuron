{
 "cells": [
  {
   "cell_type": "markdown",
   "metadata": {},
   "source": [
    "1. Write a Python program to find sum of elements in list?"
   ]
  },
  {
   "cell_type": "code",
   "execution_count": 11,
   "metadata": {},
   "outputs": [
    {
     "name": "stdout",
     "output_type": "stream",
     "text": [
      "10\n",
      "12\n",
      "14\n",
      "15\n",
      "16\n",
      "67\n"
     ]
    }
   ],
   "source": [
    "l=[10,12,14,15,16]\n",
    "\n",
    "sum_1=0\n",
    "\n",
    "for i in l:\n",
    "    sum_1+= i\n",
    "    \n",
    "print(sum_1)"
   ]
  },
  {
   "cell_type": "markdown",
   "metadata": {},
   "source": [
    "2. Write a Python program to Multiply all numbers in the list?"
   ]
  },
  {
   "cell_type": "code",
   "execution_count": 15,
   "metadata": {},
   "outputs": [
    {
     "data": {
      "text/plain": [
       "440"
      ]
     },
     "execution_count": 15,
     "metadata": {},
     "output_type": "execute_result"
    }
   ],
   "source": [
    "l=[11,2,4,5]\n",
    "\n",
    "def multiply(l):\n",
    "    mul=1\n",
    "    for i in l:\n",
    "        mul*= i\n",
    "        \n",
    "    return mul\n",
    "        \n",
    "multiply(l)"
   ]
  },
  {
   "cell_type": "markdown",
   "metadata": {},
   "source": [
    "3. Write a Python program to find smallest number in a list?"
   ]
  },
  {
   "cell_type": "code",
   "execution_count": 32,
   "metadata": {},
   "outputs": [
    {
     "name": "stdout",
     "output_type": "stream",
     "text": [
      "The smallerst numbre in [7, 2, 4, 6, 3, 1, 9] is -- 1\n"
     ]
    }
   ],
   "source": [
    "l=[7,2,4,6,3,1,9,]\n",
    "\n",
    "smallest=l[0]\n",
    "\n",
    "for i in l:\n",
    "    if i<smallest:\n",
    "        smallest=i\n",
    "\n",
    "print(\"The smallerst numbre in {} is -- {}\".format(l,smallest))\n",
    "        "
   ]
  },
  {
   "cell_type": "markdown",
   "metadata": {},
   "source": [
    "4. Write a Python program to find largest number in a list?"
   ]
  },
  {
   "cell_type": "code",
   "execution_count": 36,
   "metadata": {},
   "outputs": [
    {
     "name": "stdout",
     "output_type": "stream",
     "text": [
      "The largest numbre in [7, 2, 4, 6, 3, 1, 9] is -- 9\n"
     ]
    }
   ],
   "source": [
    "l=[7,2,4,6,3,1,9,]\n",
    "\n",
    "largest=l[0]\n",
    "\n",
    "for i in l:\n",
    "    if i>largest:\n",
    "        largest=i\n",
    "\n",
    "print(\"The largest numbre in {} is -- {}\".format(l,largest))"
   ]
  },
  {
   "cell_type": "markdown",
   "metadata": {},
   "source": [
    "5. Write a Python program to find second largest number in a list?"
   ]
  },
  {
   "cell_type": "code",
   "execution_count": 46,
   "metadata": {},
   "outputs": [
    {
     "name": "stdout",
     "output_type": "stream",
     "text": [
      "The original List : [7, 2, 4, 6, 3, 1, 9]\n",
      "The sorted List   : [1, 2, 3, 4, 6, 7, 9]\n",
      "The second largest number is : 7\n"
     ]
    }
   ],
   "source": [
    "l=[7,2,4,6,3,1,9,]\n",
    "print(\"The original List :\",l)\n",
    "#sort a list\n",
    "l.sort()\n",
    "print(\"The sorted List   :\",l)\n",
    "\n",
    "#Second Last number\n",
    "print(\"The second largest number is :\",l[-2])"
   ]
  },
  {
   "cell_type": "markdown",
   "metadata": {},
   "source": [
    "6. Write a Python program to find N largest elements from a list?"
   ]
  },
  {
   "cell_type": "code",
   "execution_count": 121,
   "metadata": {},
   "outputs": [
    {
     "name": "stdout",
     "output_type": "stream",
     "text": [
      "The Original List  [7, 2, 4, 6, 3, 1, 9]\n",
      "Sorted List : [1, 2, 3, 4, 6, 7, 9]\n",
      "Enter an a value for N : 7\n",
      "The 7th Largest Number is : 1\n"
     ]
    }
   ],
   "source": [
    "l=[7,2,4,6,3,1,9,]\n",
    "\n",
    "print(\"The Original List \",l)\n",
    "\n",
    "\n",
    "l.sort()\n",
    "print(\"Sorted List :\",l)\n",
    "n=len(l)\n",
    "\n",
    "N=int(input(\"Enter an a value for N : \"))\n",
    "\n",
    "for i in range(0,n+1):\n",
    "    if i==N and i>0:\n",
    "        print(\"The {}th Largest Number is : {}\".format(N,l[-i]))\n"
   ]
  },
  {
   "cell_type": "markdown",
   "metadata": {},
   "source": [
    "7. Write a Python program to print even numbers in a list?"
   ]
  },
  {
   "cell_type": "code",
   "execution_count": 60,
   "metadata": {},
   "outputs": [
    {
     "name": "stdout",
     "output_type": "stream",
     "text": [
      "The Even numbers are : \n",
      "2 , 4 , 6 , "
     ]
    }
   ],
   "source": [
    "l=[7,2,4,6,3,1,9,]\n",
    "\n",
    "\n",
    "print(\"The Even numbers are : \")\n",
    "for i in l:\n",
    "    if i%2==0:\n",
    "        print(i,end=\" , \")"
   ]
  },
  {
   "cell_type": "markdown",
   "metadata": {},
   "source": [
    "8. Write a Python program to print odd numbers in a List?"
   ]
  },
  {
   "cell_type": "code",
   "execution_count": 56,
   "metadata": {},
   "outputs": [
    {
     "name": "stdout",
     "output_type": "stream",
     "text": [
      "The Oddnumbers are : \n",
      "7 , 3 , 1 , 9 , "
     ]
    }
   ],
   "source": [
    "l=[7,2,4,6,3,1,9,]\n",
    "\n",
    "print(\"The Oddnumbers are : \")\n",
    "for i in l:\n",
    "    if i%2!=0:\n",
    "        print(i,end=\" , \")"
   ]
  },
  {
   "cell_type": "markdown",
   "metadata": {},
   "source": [
    "9. Write a Python program to Remove empty List from List?"
   ]
  },
  {
   "cell_type": "code",
   "execution_count": 68,
   "metadata": {},
   "outputs": [
    {
     "name": "stdout",
     "output_type": "stream",
     "text": [
      "The without empty list : [10, 12, 14, 17, 11, 22]\n"
     ]
    }
   ],
   "source": [
    "l=[10,12,[],14,17,11,[],22]\n",
    "\n",
    "for i in l:\n",
    "    if i == []:\n",
    "        l.remove(i)\n",
    "\n",
    "print(\"The without empty list :\",l)"
   ]
  },
  {
   "cell_type": "markdown",
   "metadata": {},
   "source": [
    "10. Write a Python program to Cloning or Copying a list?"
   ]
  },
  {
   "cell_type": "code",
   "execution_count": 74,
   "metadata": {},
   "outputs": [
    {
     "name": "stdout",
     "output_type": "stream",
     "text": [
      "Original List  : [7, 2, 4, 6, 3, 1, 9]\n",
      "Cloned List is :  [7, 2, 4, 6, 3, 1, 9]\n"
     ]
    }
   ],
   "source": [
    "l=[7,2,4,6,3,1,9,]\n",
    "\n",
    "l_copy=l.copy()\n",
    "\n",
    "print(\"Original List  :\",l)\n",
    "print(\"Cloned List is : \",l_copy)"
   ]
  },
  {
   "cell_type": "markdown",
   "metadata": {},
   "source": [
    "11. Write a Python program to Count occurrences of an element in a list?"
   ]
  },
  {
   "cell_type": "code",
   "execution_count": 145,
   "metadata": {},
   "outputs": [
    {
     "name": "stdout",
     "output_type": "stream",
     "text": [
      "The Occurrence of [1, 5] in [1, 3, 4, 1, 4, 5, 6, 8, 2, 9, 1, 3, 4, 5, 2] are  : 5 \n"
     ]
    }
   ],
   "source": [
    "tup=[1,3,4,1,4,5,6,8,2,9,1,3,4,5,2]\n",
    "lst=[1,5]\n",
    "\n",
    "count=0\n",
    "\n",
    "for x in tup:\n",
    "    if x in lst:\n",
    "        count+=1\n",
    "\n",
    "        \n",
    "print(\"The Occurrence of {} in {} are  : {} \".format(lst,tup,count))"
   ]
  },
  {
   "cell_type": "code",
   "execution_count": null,
   "metadata": {},
   "outputs": [],
   "source": []
  },
  {
   "cell_type": "code",
   "execution_count": null,
   "metadata": {},
   "outputs": [],
   "source": []
  }
 ],
 "metadata": {
  "kernelspec": {
   "display_name": "Python 3",
   "language": "python",
   "name": "python3"
  },
  "language_info": {
   "codemirror_mode": {
    "name": "ipython",
    "version": 3
   },
   "file_extension": ".py",
   "mimetype": "text/x-python",
   "name": "python",
   "nbconvert_exporter": "python",
   "pygments_lexer": "ipython3",
   "version": "3.8.5"
  }
 },
 "nbformat": 4,
 "nbformat_minor": 4
}
