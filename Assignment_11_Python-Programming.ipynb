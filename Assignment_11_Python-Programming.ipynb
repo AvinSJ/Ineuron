{
 "cells": [
  {
   "cell_type": "markdown",
   "metadata": {},
   "source": [
    "1. Write a Python program to find words which are greater than given length k?"
   ]
  },
  {
   "cell_type": "code",
   "execution_count": 190,
   "metadata": {},
   "outputs": [
    {
     "name": "stdout",
     "output_type": "stream",
     "text": [
      "The words greater than 5 are : \n",
      "string\n",
      "length\n",
      "greater\n",
      "length\n"
     ]
    }
   ],
   "source": [
    "s=\"This is a string to find the length of words which are greater than a give length\"\n",
    "\n",
    "n=5\n",
    "\n",
    "split=s.split()\n",
    "\n",
    "print(\"The words greater than 5 are : \")\n",
    "for i in split:\n",
    "    if len(i)>n:\n",
    "        print(i)"
   ]
  },
  {
   "cell_type": "markdown",
   "metadata": {},
   "source": [
    "2. Write a Python program for removing i-th character from a string?"
   ]
  },
  {
   "cell_type": "code",
   "execution_count": 191,
   "metadata": {},
   "outputs": [
    {
     "name": "stdout",
     "output_type": "stream",
     "text": [
      "Pyton\n"
     ]
    }
   ],
   "source": [
    "s=\"Python\"\n",
    " \n",
    "n=3\n",
    "\n",
    "for i in range(len(s)):\n",
    "    if i==n:\n",
    "        s=s.replace(s[i],\"\",1)\n",
    "    \n",
    "print(s)\n",
    "    "
   ]
  },
  {
   "cell_type": "markdown",
   "metadata": {},
   "source": [
    "3. Write a Python program to split and join a string?"
   ]
  },
  {
   "cell_type": "code",
   "execution_count": 192,
   "metadata": {},
   "outputs": [
    {
     "name": "stdout",
     "output_type": "stream",
     "text": [
      "The split string  is : \n",
      "\n",
      "Today\n",
      "is\n",
      "a\n",
      "rainy\n",
      "day\n",
      "********\n",
      "The string joined by a '-' is : \n",
      "\n",
      "Today-is-a-rainy-day\n"
     ]
    }
   ],
   "source": [
    "s=\"Today is a rainy day\"\n",
    "\n",
    "s=s.split()\n",
    "print(\"The split string  is : \\n\") \n",
    "for i in s:\n",
    "    print(i)\n",
    "    \n",
    "print(\"********\")\n",
    "print(\"The string joined by a '-' is : \\n\")\n",
    "s=\"-\".join(s)\n",
    "print(s)"
   ]
  },
  {
   "cell_type": "markdown",
   "metadata": {},
   "source": [
    "4. Write a Python to check if a given string is binary string or not?"
   ]
  },
  {
   "cell_type": "code",
   "execution_count": 193,
   "metadata": {},
   "outputs": [
    {
     "name": "stdout",
     "output_type": "stream",
     "text": [
      "The Number  010101101001 : Is Binary \n",
      "The Number  1020001122004 : Not Binary \n"
     ]
    }
   ],
   "source": [
    "string=\"010101101001\"\n",
    "\n",
    "def binary_check(string):\n",
    "\n",
    "    b=set(string)\n",
    "\n",
    "    t={\"0\",\"1\"}\n",
    "\n",
    "    if b==t or b=={\"0\"} or b=={\"1\"}:\n",
    "        return  \"Is Binary\"\n",
    "    else:\n",
    "        return \"Not Binary\"\n",
    "\n",
    "    \n",
    "print(\"The Number  {} : {} \".format(\"010101101001\",binary_check(\"010101101001\")))\n",
    "print(\"The Number  {} : {} \".format(\"1020001122004\",binary_check(\"1020001122004\")))"
   ]
  },
  {
   "cell_type": "markdown",
   "metadata": {},
   "source": [
    "5. Write a Python program to find uncommon words from two Strings?"
   ]
  },
  {
   "cell_type": "code",
   "execution_count": 194,
   "metadata": {},
   "outputs": [
    {
     "name": "stdout",
     "output_type": "stream",
     "text": [
      "{'English', 'French', 'France', 'Britain'}\n"
     ]
    }
   ],
   "source": [
    "string_1=\"French was the principle language of France\"\n",
    "string_2=\"English was the principle language of Britain\"\n",
    "\n",
    "s1=set(string_1.split())\n",
    "s2=set(string_2.split())\n",
    "\n",
    "print(s1 ^ s2)"
   ]
  },
  {
   "cell_type": "markdown",
   "metadata": {},
   "source": [
    "6. Write a Python to find all duplicate characters in string?"
   ]
  },
  {
   "cell_type": "code",
   "execution_count": 195,
   "metadata": {},
   "outputs": [
    {
     "name": "stdout",
     "output_type": "stream",
     "text": [
      "The Duplicates are : \n",
      "d  a  y     i  "
     ]
    }
   ],
   "source": [
    "s=\"Sunday is a Holiday\"\n",
    "\n",
    "\n",
    "dup={}\n",
    "\n",
    "for i in s:\n",
    "    if i in dup:\n",
    "        dup[i]+=1\n",
    "    else:\n",
    "        dup[i]=1\n",
    "\n",
    "    \n",
    "print(\"The Duplicates are : \")\n",
    "for k,v in dup.items():\n",
    "    if v > 1:\n",
    "        print(k,end=\"  \")\n",
    "    "
   ]
  },
  {
   "cell_type": "markdown",
   "metadata": {},
   "source": [
    "7. Write a Python Program to check if a string contains any special character?"
   ]
  },
  {
   "cell_type": "code",
   "execution_count": 189,
   "metadata": {},
   "outputs": [
    {
     "name": "stdout",
     "output_type": "stream",
     "text": [
      "The string contains special characters \n"
     ]
    }
   ],
   "source": [
    "special=\"@ _ ! # $ % ^ & * ( ) < > ? / \\ | } { ~ : \"\n",
    "special=special.split()\n",
    "\n",
    "\n",
    "string=\"Hey !!! that will be $10 \"\n",
    "\n",
    "\n",
    "for i in string:\n",
    "    if i in special:\n",
    "        print(\"The string contains special characters \")\n",
    "        break\n",
    "else:\n",
    "    print(\"The String does not contain any special characters\")\n",
    "        \n",
    "    "
   ]
  },
  {
   "cell_type": "code",
   "execution_count": null,
   "metadata": {},
   "outputs": [],
   "source": []
  }
 ],
 "metadata": {
  "kernelspec": {
   "display_name": "Python 3",
   "language": "python",
   "name": "python3"
  },
  "language_info": {
   "codemirror_mode": {
    "name": "ipython",
    "version": 3
   },
   "file_extension": ".py",
   "mimetype": "text/x-python",
   "name": "python",
   "nbconvert_exporter": "python",
   "pygments_lexer": "ipython3",
   "version": "3.8.5"
  }
 },
 "nbformat": 4,
 "nbformat_minor": 4
}
