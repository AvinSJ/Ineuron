{
 "cells": [
  {
   "cell_type": "markdown",
   "metadata": {},
   "source": [
    "1. Create a function to perform basic arithmetic operations that includes\n",
    "addition, subtraction, multiplication and division on a string number (e.g. &quot;12 +\n",
    "24&quot; or &quot;23 - 21&quot; or &quot;12 // 12&quot; or &quot;12 * 21&quot;).\n",
    "Here, we have 1 followed by a space, operator followed by another space\n",
    "and 2. For the challenge, we are going to have only two numbers between 1\n",
    "valid operator. The return value should be a number.\n",
    "eval() is not allowed. In case of division, whenever the second number equals\n",
    "&quot;0&quot; return -1.\n",
    "For example:\n",
    "&quot;15 // 0&quot; ➞ -1\n",
    "Examples\n",
    "arithmetic_operation(&quot;12 + 12&quot;) ➞ 24 // 12 + 12 = 24\n",
    "arithmetic_operation(&quot;12 - 12&quot;) ➞ 24 // 12 - 12 = 0\n",
    "arithmetic_operation(&quot;12 * 12&quot;) ➞ 144 // 12 * 12 = 144\n",
    "arithmetic_operation(&quot;12 // 0&quot;) ➞ -1 // 12 / 0 = -1"
   ]
  },
  {
   "cell_type": "code",
   "execution_count": 1,
   "metadata": {},
   "outputs": [
    {
     "name": "stdout",
     "output_type": "stream",
     "text": [
      "24\n",
      "0\n",
      "144\n",
      "-1\n"
     ]
    }
   ],
   "source": [
    "s=\"12 + 12\"\n",
    "def arithmetic_operation(s):\n",
    "    s=s.split()\n",
    "    n=[]\n",
    "    \n",
    "    for i in s:\n",
    "        if i.isnumeric():\n",
    "            n.append(i)\n",
    "        else:\n",
    "            o=i\n",
    "    for j in n:\n",
    "        if o==\"+\":\n",
    "            return int(n[0]) + int(n[1])\n",
    "        elif o==\"-\":\n",
    "            return int(n[0]) - int(n[1])\n",
    "    \n",
    "        elif o==\"*\":\n",
    "            return int(n[0]) * int(n[1])\n",
    "        elif o==\"//\":\n",
    "            try:\n",
    "                return int(n[0]) // int(n[1])\n",
    "            except:\n",
    "                return -1\n",
    "    \n",
    "\n",
    "\n",
    "        \n",
    "print(arithmetic_operation(\"12 + 12\"))\n",
    "print(arithmetic_operation(\"12 - 12\"))\n",
    "print(arithmetic_operation(\"12 * 12\"))\n",
    "print(arithmetic_operation(\"12 // 0\"))"
   ]
  },
  {
   "cell_type": "markdown",
   "metadata": {},
   "source": [
    "2. Write a function that takes the coordinates of three points in the form of a\n",
    "2d array and returns the perimeter of the triangle. The given points are the\n",
    "vertices of a triangle on a two-dimensional plane.\n",
    "Examples\n",
    "perimeter( [ [15, 7], [5, 22], [11, 1] ] ) ➞ 47.08\n",
    "perimeter( [ [0, 0], [0, 1], [1, 0] ] ) ➞ 3.42\n",
    "perimeter( [ [-10, -10], [10, 10 ], [-10, 10] ] ) ➞ 68.28"
   ]
  },
  {
   "cell_type": "code",
   "execution_count": 2,
   "metadata": {},
   "outputs": [
    {
     "name": "stdout",
     "output_type": "stream",
     "text": [
      "47.07918859608948\n",
      "3.414213562373095\n",
      "68.2842712474619\n"
     ]
    }
   ],
   "source": [
    "import math\n",
    "\n",
    "# def triangle_area(x1, y1, x2, y2, x3, y3):\n",
    "#     return abs(0.5*(x1*(y2-y3)+x2*(y3-y1)+x3*(y1-y2)))\n",
    "\n",
    "def distance(x1,y1,x2,y2):\n",
    "    dist=math.sqrt(pow(x2-x1,2)+pow(y2-y1,2))\n",
    "    return dist\n",
    "\n",
    "def triangle_perimeter(l):\n",
    "    for i in l:\n",
    "        a=l[0]\n",
    "        b=l[1]\n",
    "        c=l[2]\n",
    "    first=distance(a[0],a[1],b[0],b[1])\n",
    "    second=distance(b[0],b[1],c[0],c[1])\n",
    "    third=distance(c[0],c[1],a[0],a[1])\n",
    "    \n",
    "    perimeter= first + second + third\n",
    "    \n",
    "    return perimeter\n",
    "    \n",
    "print(triangle_perimeter(([ [15, 7], [5, 22], [11, 1] ] )))\n",
    "print(triangle_perimeter( [ [0, 0], [0, 1], [1, 0] ] ) )\n",
    "print(triangle_perimeter( [ [-10, -10], [10, 10 ], [-10, 10] ]) )\n"
   ]
  },
  {
   "cell_type": "markdown",
   "metadata": {},
   "source": [
    "3. A city skyline can be represented as a 2-D list with 1s representing\n",
    "buildings. In the example below, the height of the tallest building is 4 (second-\n",
    "most right column).\n",
    "[[0, 0, 0, 0, 0, 0],\n",
    "[0, 0, 0, 0, 1, 0],\n",
    "[0, 0, 1, 0, 1, 0],\n",
    "[0, 1, 1, 1, 1, 0],\n",
    "\n",
    "[1, 1, 1, 1, 1, 1]]\n",
    "Create a function that takes a skyline (2-D list of 0&#39;s and 1&#39;s) and returns the\n",
    "height of the tallest skyscraper.\n",
    "                                        Examples\n",
    "tallest_skyscraper([\n",
    "[0, 0, 0, 0],\n",
    "[0, 1, 0, 0],\n",
    "[0, 1, 1, 0],\n",
    "[1, 1, 1, 1]\n",
    "]) ➞ 3\n",
    "tallest_skyscraper([\n",
    "[0, 1, 0, 0],\n",
    "[0, 1, 0, 0],\n",
    "[0, 1, 1, 0],\n",
    "[1, 1, 1, 1]\n",
    "]) ➞ 4\n",
    "tallest_skyscraper([\n",
    "[0, 0, 0, 0],\n",
    "[0, 0, 0, 0],\n",
    "[1, 1, 1, 0],\n",
    "[1, 1, 1, 1]\n",
    "]) ➞ 2"
   ]
  },
  {
   "cell_type": "code",
   "execution_count": 3,
   "metadata": {},
   "outputs": [
    {
     "name": "stdout",
     "output_type": "stream",
     "text": [
      "3\n",
      "4\n",
      "2\n"
     ]
    }
   ],
   "source": [
    "def tallest_skyscraper(l):\n",
    "    sval=dict()\n",
    "    w=0\n",
    "    for i in l:\n",
    "        sum_1=0\n",
    "        for j in i:\n",
    "            if j==1:\n",
    "                sum_1+=j\n",
    "                \n",
    "                \n",
    "        sval.update({w:sum_1})\n",
    "        w+=1\n",
    "    zero=[]\n",
    "    for k,v in sval.items():\n",
    "        if v==0:\n",
    "            zero.append(k)\n",
    "    \n",
    "    for z in zero:\n",
    "        sval.pop(z)\n",
    "        \n",
    "    return len(sval)\n",
    "print(tallest_skyscraper([ [0, 0, 0, 0], [0, 1, 0, 0], [0, 1, 1, 0], [1, 1, 1, 1] ]))\n",
    "print(tallest_skyscraper([ [0, 1, 0, 0], [0, 1, 0, 0], [0, 1, 1, 0], [1, 1, 1, 1] ]))\n",
    "print(tallest_skyscraper([ [0, 0, 0, 0], [0, 0, 0, 0], [1, 1, 1, 0], [1, 1, 1, 1] ]))"
   ]
  },
  {
   "cell_type": "markdown",
   "metadata": {},
   "source": [
    "4. A financial institution provides professional services to banks and claims\n",
    "charges from the customers based on the number of man-days provided.\n",
    "Internally, it has set a scheme to motivate and reward staff to meet and\n",
    "exceed targeted billable utilization and revenues by paying a bonus for each\n",
    "day claimed from customers in excess of a threshold target.\n",
    "This quarterly scheme is calculated with a threshold target of 32 days per\n",
    "quarter, and the incentive payment for each billable day in excess of such\n",
    "threshold target is shown as follows:\n",
    "Days Bonus\n",
    "0 to 32 days Zero\n",
    "33 to 40 days SGD$325 per billable day\n",
    "41 to 48 days SGD$550 per billable day\n",
    "Greater than 48 days SGD$600 per billable day\n",
    "\n",
    "Please note that incentive payment is calculated progressively. As an\n",
    "example, if an employee reached total billable days of 45 in a quarter, his/her\n",
    "incentive payment is computed as follows:\n",
    "32*0 + 8*325 + 5*550 = 5350\n",
    "Write a function to read the billable days of an employee and return the bonus\n",
    "he/she has obtained in that quarter.\n",
    "Examples\n",
    "bonus(15) ➞ 0\n",
    "bonus(37) ➞ 1625\n",
    "bonus(50) ➞ 8200"
   ]
  },
  {
   "cell_type": "code",
   "execution_count": 14,
   "metadata": {},
   "outputs": [
    {
     "name": "stdout",
     "output_type": "stream",
     "text": [
      "0\n",
      "1625\n",
      "8200\n"
     ]
    }
   ],
   "source": [
    "def bonus(d):\n",
    "    b=0\n",
    "    i=0\n",
    "    while i<=d:\n",
    "        if i <=32:\n",
    "            b=0\n",
    "            i+=1\n",
    "        if  i>=33 and i<=40:\n",
    "            b+=325\n",
    "            i+=1\n",
    "        if i>=41 and i<=48:\n",
    "            b+=550\n",
    "            i+=1\n",
    "        if i>48:\n",
    "            b+=600\n",
    "            i+=1\n",
    "    return b\n",
    "\n",
    "\n",
    "print(bonus(15))\n",
    "print(bonus(37))\n",
    "print(bonus(50))"
   ]
  },
  {
   "cell_type": "markdown",
   "metadata": {},
   "source": [
    "5. A number is said to be Disarium if the sum of its digits raised to their\n",
    "respective positions is the number itself.\n",
    "Create a function that determines whether a number is a Disarium or not.\n",
    "Examples\n",
    "is_disarium(75) ➞ False\n",
    " 7^1 + 5^2 = 7 + 25 = 32\n",
    "is_disarium(135) ➞ True\n",
    " 1^1 + 3^2 + 5^3 = 1 + 9 + 125 = 135\n",
    "is_disarium(544) ➞ False\n",
    "is_disarium(518) ➞ True\n",
    "is_disarium(466) ➞ False\n",
    "is_disarium(8) ➞ True"
   ]
  },
  {
   "cell_type": "code",
   "execution_count": 44,
   "metadata": {},
   "outputs": [
    {
     "name": "stdout",
     "output_type": "stream",
     "text": [
      "False\n",
      "True\n",
      "False\n",
      "True\n",
      "False\n",
      "True\n"
     ]
    }
   ],
   "source": [
    "def disarium(num):\n",
    "    n=len(str(num))\n",
    "    sum1=0\n",
    "    x=num\n",
    "    while x :\n",
    "        sum1+=pow(x%10,n)\n",
    "        n-=1\n",
    "        x=x//10\n",
    "        \n",
    "    if sum1==num:\n",
    "        return True\n",
    "    else:\n",
    "        return False\n",
    "        \n",
    "        \n",
    "        \n",
    "\n",
    "print(disarium(75))\n",
    "print(disarium(135))\n",
    "print(disarium(544))\n",
    "print(disarium(518))\n",
    "print(disarium(466))\n",
    "print(disarium(8))"
   ]
  },
  {
   "cell_type": "code",
   "execution_count": null,
   "metadata": {},
   "outputs": [],
   "source": []
  }
 ],
 "metadata": {
  "kernelspec": {
   "display_name": "Python 3",
   "language": "python",
   "name": "python3"
  },
  "language_info": {
   "codemirror_mode": {
    "name": "ipython",
    "version": 3
   },
   "file_extension": ".py",
   "mimetype": "text/x-python",
   "name": "python",
   "nbconvert_exporter": "python",
   "pygments_lexer": "ipython3",
   "version": "3.8.5"
  }
 },
 "nbformat": 4,
 "nbformat_minor": 4
}
