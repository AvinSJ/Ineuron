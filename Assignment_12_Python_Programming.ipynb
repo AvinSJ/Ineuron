{
 "cells": [
  {
   "cell_type": "markdown",
   "metadata": {},
   "source": [
    "1. Write a Python program to Extract Unique values dictionary values?"
   ]
  },
  {
   "cell_type": "code",
   "execution_count": 28,
   "metadata": {},
   "outputs": [
    {
     "name": "stdout",
     "output_type": "stream",
     "text": [
      "The Original Dictionayr  is :  {'A': [7, 3, 6, 5], 'B': [8, 1, 6, 2], 'C': [9, 4, 3, 5], 'D': [1, 5, 6, 7]}\n",
      "The Unique Values in a Dictionary :  {1, 2, 3, 4, 5, 6, 7, 8, 9}\n"
     ]
    }
   ],
   "source": [
    " a={\"A\" : [7,3,6,5],\n",
    "    \"B\" : [8,1,6,2],\n",
    "    \"C\" : [9,4,3,5],\n",
    "    \"D\" : [1,5,6,7]}\n",
    "    \n",
    "print(\"The Original Dictionayr  is : \",a)\n",
    "\n",
    "s={j for i in a.values() for j in i}\n",
    "\n",
    "print(\"The Unique Values in a Dictionary : \",s)"
   ]
  },
  {
   "cell_type": "markdown",
   "metadata": {},
   "source": [
    "2. Write a Python program to find the sum of all items in a dictionary?"
   ]
  },
  {
   "cell_type": "code",
   "execution_count": 47,
   "metadata": {},
   "outputs": [
    {
     "name": "stdout",
     "output_type": "stream",
     "text": [
      "The Orginal Dictionary : \n",
      " {'A': [7, 3, 6, 5], 'B': [8, 1, 6, 2], 'C': [9, 4, 3, 5], 'D': [1, 5, 6, 7]}\n",
      "Sum of all the items the dictionary  :  78\n"
     ]
    }
   ],
   "source": [
    "print(\"The Orginal Dictionary : \\n\",a)\n",
    "\n",
    "def sum_dict(a):\n",
    "    sum_dict=0\n",
    "    for i in a.values():\n",
    "        sum_dict+=sum(i)\n",
    "        \n",
    "    return sum_dict\n",
    "        \n",
    " \n",
    "print(\"Sum of all the items the dictionary  : \",sum_dict(a))"
   ]
  },
  {
   "cell_type": "markdown",
   "metadata": {},
   "source": [
    "3. Write a Python program to Merging two Dictionaries?"
   ]
  },
  {
   "cell_type": "code",
   "execution_count": 70,
   "metadata": {},
   "outputs": [
    {
     "name": "stdout",
     "output_type": "stream",
     "text": [
      "First Dictionary :\n",
      " {'a': 14, 'B': 'C', 'C': 'B', 'D': 12}\n",
      "Second Dictionary : \n",
      " {'a': 13, 'b': 2, 4: 'C', 5: 'D'}\n",
      "The  Two Dictionary merged : \n",
      " {'a': 13, 'B': 'C', 'C': 'B', 'D': 12, 'b': 2, 4: 'C', 5: 'D'}\n"
     ]
    }
   ],
   "source": [
    "def merge(a,b):\n",
    "    res = a.update(b)\n",
    "    return a\n",
    "\n",
    "a={\"a\":14,\"B\":\"C\",\"C\":\"B\",\"D\":12}\n",
    "print(\"First Dictionary :\\n\",a)\n",
    "\n",
    "b={\"a\":13,\"b\":2,4:\"C\",5:\"D\"}\n",
    "print(\"Second Dictionary : \\n\",b)\n",
    "\n",
    "print(\"The  Two Dictionary merged : \\n\",merge(a,b))"
   ]
  },
  {
   "cell_type": "markdown",
   "metadata": {},
   "source": [
    "4. Write a Python program to convert key-values list to flat dictionary?"
   ]
  },
  {
   "cell_type": "code",
   "execution_count": 125,
   "metadata": {},
   "outputs": [
    {
     "name": "stdout",
     "output_type": "stream",
     "text": [
      "A {1: 'A', 2: 'B', 3: 'C', 4: 'D'}\n",
      "B {1: 'a', 2: 'b', 3: 'c', 4: 'd'}\n",
      "Fatten Dictionary of A & B :  {'A': 'a', 'B': 'b', 'C': 'c', 'D': 'd'}\n"
     ]
    }
   ],
   "source": [
    "a={\n",
    "    1:\"A\",\n",
    "    2:\"B\",\n",
    "    3:\"C\",\n",
    "    4:\"D\"\n",
    "    \n",
    "}\n",
    "\n",
    "print(\"A\",a)\n",
    "\n",
    "\n",
    "b={\n",
    "    1:\"a\",\n",
    "    2:\"b\",\n",
    "    3:\"c\",\n",
    "    4:\"d\"\n",
    "    \n",
    "}\n",
    "\n",
    "print(\"B\",b)\n",
    "\n",
    "flat=dict(zip(a.values(),b.values()))\n",
    "print(\"Fatten Dictionary of A & B : \",flat)"
   ]
  },
  {
   "cell_type": "markdown",
   "metadata": {},
   "source": [
    "5. Write a Python program to insertion at the beginning in OrderedDict?"
   ]
  },
  {
   "cell_type": "code",
   "execution_count": 148,
   "metadata": {},
   "outputs": [
    {
     "name": "stdout",
     "output_type": "stream",
     "text": [
      "OrderedDict([('MR', 4), ('AVIN', 1), ('SHERI', 2), ('JOSEPH', 3)])\n"
     ]
    }
   ],
   "source": [
    "from collections import OrderedDict\n",
    "\n",
    "ordered=OrderedDict([(\"AVIN\",1),(\"SHERI\",2),(\"JOSEPH\",3)])\n",
    "\n",
    "ordered.update({\"MR\":4})\n",
    "ordered.move_to_end(\"MR\",last = False)\n",
    "\n",
    "print(ordered)"
   ]
  },
  {
   "cell_type": "markdown",
   "metadata": {},
   "source": [
    "6. Write a Python program to check order of character in string using OrderedDict()?"
   ]
  },
  {
   "cell_type": "code",
   "execution_count": 225,
   "metadata": {},
   "outputs": [
    {
     "name": "stdout",
     "output_type": "stream",
     "text": [
      "True\n"
     ]
    }
   ],
   "source": [
    "def CheckOrder(string,pattern):\n",
    "    dict= OrderedDict.fromkeys(string)\n",
    "    \n",
    "    plen=0\n",
    "    for key, values in dict.items():\n",
    "        if (pattern[plen]==key):\n",
    "            plen= plen + 1\n",
    "    \n",
    "    if plen==len(pattern):\n",
    "        return True\n",
    "    else:\n",
    "        return False\n",
    "\n",
    "string = 'monday'\n",
    "pattern = 'day'\n",
    "print(CheckOrder(string,pattern))"
   ]
  },
  {
   "cell_type": "markdown",
   "metadata": {},
   "source": [
    "7. Write a Python program to sort Python Dictionaries by Key or Value?"
   ]
  },
  {
   "cell_type": "code",
   "execution_count": 241,
   "metadata": {},
   "outputs": [
    {
     "name": "stdout",
     "output_type": "stream",
     "text": [
      "H G F E D C B A "
     ]
    }
   ],
   "source": [
    "d={\n",
    "    \n",
    "    1:\"A\",\n",
    "    2:\"B\",\n",
    "    3:\"C\",\n",
    "    4:\"D\",\n",
    "    5:\"E\",\n",
    "    6:\"F\",\n",
    "    7:\"G\",\n",
    "    8:\"H\"\n",
    "}\n",
    "\n",
    "for i in sorted(d.values(),reverse=True):\n",
    "    print(i,end=\" \")"
   ]
  },
  {
   "cell_type": "code",
   "execution_count": null,
   "metadata": {},
   "outputs": [],
   "source": [
    "A"
   ]
  }
 ],
 "metadata": {
  "kernelspec": {
   "display_name": "Python 3",
   "language": "python",
   "name": "python3"
  },
  "language_info": {
   "codemirror_mode": {
    "name": "ipython",
    "version": 3
   },
   "file_extension": ".py",
   "mimetype": "text/x-python",
   "name": "python",
   "nbconvert_exporter": "python",
   "pygments_lexer": "ipython3",
   "version": "3.8.5"
  }
 },
 "nbformat": 4,
 "nbformat_minor": 4
}
