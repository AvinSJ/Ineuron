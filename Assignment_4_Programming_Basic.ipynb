{
 "cells": [
  {
   "cell_type": "markdown",
   "metadata": {},
   "source": [
    "1. Write a Python Program to Find the Factorial of a Number?"
   ]
  },
  {
   "cell_type": "code",
   "execution_count": 32,
   "metadata": {},
   "outputs": [
    {
     "name": "stdout",
     "output_type": "stream",
     "text": [
      "Enter a number : 6\n",
      "720\n"
     ]
    }
   ],
   "source": [
    "num=int(input(\"Enter a number : \"))\n",
    "\n",
    "def fact(num):\n",
    "    fact=1\n",
    "    if num < 0:\n",
    "        print(\"No Factorial for negative numbers\")\n",
    "    elif num == 0:\n",
    "        return fact\n",
    "    else:\n",
    "        for i in range(1,num+1):\n",
    "            fact=fact*i\n",
    "        return fact\n",
    "    \n",
    "    \n",
    "print(fact(num))\n",
    "    "
   ]
  },
  {
   "cell_type": "markdown",
   "metadata": {},
   "source": [
    "2. Write a Python Program to Display the multiplication Table?"
   ]
  },
  {
   "cell_type": "code",
   "execution_count": 43,
   "metadata": {},
   "outputs": [
    {
     "name": "stdout",
     "output_type": "stream",
     "text": [
      "Enter a number : 10\n",
      "10 x 0 is = 0\n",
      "10 x 1 is = 10\n",
      "10 x 2 is = 20\n",
      "10 x 3 is = 30\n",
      "10 x 4 is = 40\n",
      "10 x 5 is = 50\n",
      "10 x 6 is = 60\n",
      "10 x 7 is = 70\n",
      "10 x 8 is = 80\n",
      "10 x 9 is = 90\n",
      "10 x 10 is = 100\n"
     ]
    }
   ],
   "source": [
    "num=int(input(\"Enter a number : \"))\n",
    "\n",
    "for i in range(11):\n",
    "    print(\"{} x {} is = {}\".format(num,i,num*i))"
   ]
  },
  {
   "cell_type": "markdown",
   "metadata": {},
   "source": [
    "3. Write a Python Program to Print the Fibonacci sequence?"
   ]
  },
  {
   "cell_type": "code",
   "execution_count": 60,
   "metadata": {},
   "outputs": [
    {
     "name": "stdout",
     "output_type": "stream",
     "text": [
      "Enter a number : 5\n",
      "0\n",
      "1\n",
      "1\n",
      "2\n",
      "3\n"
     ]
    }
   ],
   "source": [
    "num = int(input(\"Enter a number : \"))\n",
    "\n",
    "n1,n2=0,1\n",
    "count = 0\n",
    "\n",
    "if num<=0:\n",
    "    print(\"Enter a positive number \")\n",
    "    \n",
    "elif num == 1:\n",
    "    print(\"The Fibonnaci sequeunce is\",n1)\n",
    "    \n",
    "else:\n",
    "    while count<num:\n",
    "        print(n1)\n",
    "        nth=n1+n2\n",
    "        n1=n2\n",
    "        n2=nth\n",
    "        count+=1"
   ]
  },
  {
   "cell_type": "markdown",
   "metadata": {},
   "source": [
    "4. Write a Python Program to Check Armstrong Number?"
   ]
  },
  {
   "cell_type": "code",
   "execution_count": 17,
   "metadata": {},
   "outputs": [
    {
     "name": "stdout",
     "output_type": "stream",
     "text": [
      "Enter a number : 371\n",
      "371 is an Armstrong Number\n"
     ]
    }
   ],
   "source": [
    "num=int(input(\"Enter a number : \"))\n",
    "\n",
    "order=len(str(num))\n",
    "\n",
    "sum=0\n",
    "temp=num\n",
    "\n",
    "while temp>0:\n",
    "    digit=temp%10\n",
    "    sum+= digit ** order\n",
    "    temp//=10\n",
    "    \n",
    "if num==sum:\n",
    "    print(num,\"is an Armstrong Number\")\n",
    "else:\n",
    "    print(num,\"is not an Armstrong Number\")"
   ]
  },
  {
   "cell_type": "markdown",
   "metadata": {},
   "source": [
    "5. Write a Python Program to Find Armstrong Number in an Interval?"
   ]
  },
  {
   "cell_type": "code",
   "execution_count": 36,
   "metadata": {},
   "outputs": [
    {
     "name": "stdout",
     "output_type": "stream",
     "text": [
      "153\n",
      "370\n",
      "371\n",
      "407\n",
      "1634\n"
     ]
    }
   ],
   "source": [
    "lower=50\n",
    "upper=3000\n",
    "\n",
    "for i in range(lower,upper+1):\n",
    "    temp=i\n",
    "    sum=0\n",
    "    order=len(str(i))\n",
    "    while temp > 0:\n",
    "        digit = temp % 10\n",
    "        sum += digit ** order\n",
    "        temp //= 10\n",
    "    if i==sum:\n",
    "        print(i)\n"
   ]
  },
  {
   "cell_type": "markdown",
   "metadata": {},
   "source": [
    "6. Write a Python Program to Find the Sum of Natural Numbers?"
   ]
  },
  {
   "cell_type": "code",
   "execution_count": 44,
   "metadata": {},
   "outputs": [
    {
     "name": "stdout",
     "output_type": "stream",
     "text": [
      "Enter a number : 37\n",
      "The sum of 37 natural numbers is 703\n"
     ]
    }
   ],
   "source": [
    "num=int(input(\"Enter a number : \"))\n",
    "\n",
    "sum=0\n",
    "if num<0:\n",
    "    print(\"Input a positive number\")\n",
    "else:\n",
    "    for i in range(0,num+1):\n",
    "        sum+=i\n",
    "\n",
    "print(\"The sum of {} natural numbers is {}\".format(num,sum))\n",
    "    "
   ]
  },
  {
   "cell_type": "code",
   "execution_count": null,
   "metadata": {},
   "outputs": [],
   "source": []
  }
 ],
 "metadata": {
  "kernelspec": {
   "display_name": "Python 3",
   "language": "python",
   "name": "python3"
  },
  "language_info": {
   "codemirror_mode": {
    "name": "ipython",
    "version": 3
   },
   "file_extension": ".py",
   "mimetype": "text/x-python",
   "name": "python",
   "nbconvert_exporter": "python",
   "pygments_lexer": "ipython3",
   "version": "3.8.5"
  }
 },
 "nbformat": 4,
 "nbformat_minor": 4
}
