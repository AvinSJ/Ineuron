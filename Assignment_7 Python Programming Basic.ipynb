{
 "cells": [
  {
   "cell_type": "markdown",
   "metadata": {},
   "source": [
    "1. Write a Python Program to find sum of array?"
   ]
  },
  {
   "cell_type": "code",
   "execution_count": 18,
   "metadata": {},
   "outputs": [
    {
     "data": {
      "text/plain": [
       "12"
      ]
     },
     "execution_count": 18,
     "metadata": {},
     "output_type": "execute_result"
    }
   ],
   "source": [
    "def sum_of_an_Array(a):\n",
    "    n=len(a)\n",
    "    sum=0\n",
    "    for i in range(n):\n",
    "        sum+=a[i]\n",
    "    return sum\n",
    "\n",
    "sum_of_an_Array([1,2,4,5])"
   ]
  },
  {
   "cell_type": "markdown",
   "metadata": {},
   "source": [
    "2. Write a Python Program to find largest element in an array?"
   ]
  },
  {
   "cell_type": "code",
   "execution_count": 17,
   "metadata": {},
   "outputs": [
    {
     "data": {
      "text/plain": [
       "9"
      ]
     },
     "execution_count": 17,
     "metadata": {},
     "output_type": "execute_result"
    }
   ],
   "source": [
    "def largest_element(a):\n",
    "    larg=arr[0]\n",
    "    n=len(a)\n",
    "    for i in range(n):\n",
    "        if a[i]>larg:\n",
    "            larg=a[i]\n",
    "    return larg\n",
    "\n",
    "largest_element([9,4,7,3,4,6,2])"
   ]
  },
  {
   "cell_type": "markdown",
   "metadata": {},
   "source": [
    "3. Write a Python Program for array rotation?"
   ]
  },
  {
   "cell_type": "code",
   "execution_count": 53,
   "metadata": {},
   "outputs": [
    {
     "name": "stdout",
     "output_type": "stream",
     "text": [
      "The Array [10, 12, 34, 56, 72] after rotating  elements of size 2 ,Result after rotation is [34, 56, 72, 10, 12]\n"
     ]
    }
   ],
   "source": [
    "# a=[10,12,34,56,72]\n",
    "\n",
    "def reverse(arr,low,high):\n",
    "    #This funtion reverses a giver array\n",
    "    while (low<high):\n",
    "        arr[low],arr[high]=arr[high],arr[low]\n",
    "        low+=1\n",
    "        high-=1\n",
    "    return arr\n",
    "        \n",
    "\n",
    "def rotate(arr,k):\n",
    "    #To rotate upto kth position\n",
    "    n=len(arr)\n",
    "    \n",
    "    reverse(arr,0,k-1)\n",
    "    reverse(arr,k,n-1)\n",
    "    reverse(arr,0,n-1)\n",
    "    \n",
    "    return arr\n",
    "\n",
    "array=[10,12,34,56,72]\n",
    "ro_size=2\n",
    "\n",
    "print(\"The Array {} after rotating  elements of size {} ,\".format(array,ro_size),end='')\n",
    "print(\"Result after rotation is {}\".format(rotate(array,ro_size)))\n",
    "\n",
    "# rotate(array,2)"
   ]
  },
  {
   "cell_type": "markdown",
   "metadata": {},
   "source": [
    "4. Write a Python Program to Split the array and add the first part to the end?    "
   ]
  },
  {
   "cell_type": "code",
   "execution_count": 67,
   "metadata": {},
   "outputs": [
    {
     "name": "stdout",
     "output_type": "stream",
     "text": [
      "This is the Orignal Array before split : [10, 13, 16, 47, 96, 56, 37]\n",
      "This is the first  splitted array      :  [10, 13, 16, 47, 96]\n",
      "This is the second splitted array      :  [56, 37]\n",
      "After adding the first part to the end :  [56, 37, 10, 13, 16, 47, 96]\n"
     ]
    }
   ],
   "source": [
    "a=[10,13,16,47,96,56,37]\n",
    "\n",
    "print(\"This is the Orignal Array before split :\",a)\n",
    "\n",
    "split_1=a[:5]\n",
    "split_2=a[5:]\n",
    " \n",
    "print(\"This is the first  splitted array      : \",split_1)\n",
    "print(\"This is the second splitted array      : \",split_2)\n",
    "\n",
    "array=split_2 + split_1\n",
    "print(\"After adding the first part to the end : \", array)"
   ]
  },
  {
   "cell_type": "markdown",
   "metadata": {},
   "source": [
    "5. Write a Python Program to check if given array is Monotonic?"
   ]
  },
  {
   "cell_type": "code",
   "execution_count": 153,
   "metadata": {},
   "outputs": [
    {
     "name": "stdout",
     "output_type": "stream",
     "text": [
      "True The Array is Monotomic\n",
      "True  The Reverse Array is Monotomic\n"
     ]
    }
   ],
   "source": [
    "a= [99, 87, 82, 78, 56, 56, 42, 34, 12]\n",
    "\n",
    "def monotomic(a):\n",
    "    n=len(a)\n",
    "    return (all(a[i] >= a[i+1] for i in range(n - 1)) or all(a[i] <= a[i+1] for i in range(n-1)) )\n",
    "\n",
    "print(monotomic(a),\"The Array is Monotomic\")\n",
    "\n",
    "a.sort(reverse=False)\n",
    "print(monotomic(a),\" The Reverse Array is Monotomic\")\n"
   ]
  },
  {
   "cell_type": "code",
   "execution_count": null,
   "metadata": {},
   "outputs": [],
   "source": []
  },
  {
   "cell_type": "code",
   "execution_count": 154,
   "metadata": {},
   "outputs": [],
   "source": []
  },
  {
   "cell_type": "code",
   "execution_count": null,
   "metadata": {},
   "outputs": [],
   "source": []
  },
  {
   "cell_type": "code",
   "execution_count": null,
   "metadata": {},
   "outputs": [],
   "source": []
  },
  {
   "cell_type": "code",
   "execution_count": null,
   "metadata": {},
   "outputs": [],
   "source": []
  },
  {
   "cell_type": "code",
   "execution_count": null,
   "metadata": {},
   "outputs": [],
   "source": []
  }
 ],
 "metadata": {
  "kernelspec": {
   "display_name": "Python 3",
   "language": "python",
   "name": "python3"
  },
  "language_info": {
   "codemirror_mode": {
    "name": "ipython",
    "version": 3
   },
   "file_extension": ".py",
   "mimetype": "text/x-python",
   "name": "python",
   "nbconvert_exporter": "python",
   "pygments_lexer": "ipython3",
   "version": "3.8.5"
  }
 },
 "nbformat": 4,
 "nbformat_minor": 4
}
