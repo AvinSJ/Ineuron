{
 "cells": [
  {
   "cell_type": "markdown",
   "metadata": {},
   "source": [
    "1. Create a function that transposes a 2D matrix.\n",
    "Examples\n",
    "transpose_matrix([\n",
    "[1, 1, 1],\n",
    "[2, 2, 2],\n",
    "[3, 3, 3]\n",
    "]) ➞ [\n",
    "[1, 2, 3],\n",
    "[1, 2, 3],\n",
    "[1, 2, 3]\n",
    "]\n",
    "transpose_matrix([\n",
    "[5, 5],\n",
    "[6, 7],\n",
    "[9, 1]\n",
    "]) ➞ [\n",
    "[5, 6, 9],\n",
    "[5, 7, 1]\n",
    "]"
   ]
  },
  {
   "cell_type": "code",
   "execution_count": 31,
   "metadata": {},
   "outputs": [
    {
     "name": "stdout",
     "output_type": "stream",
     "text": [
      "[[5, 6, 9], [5, 7, 1]]\n",
      "[[1, 2, 3], [1, 2, 3], [1, 2, 3]]\n"
     ]
    }
   ],
   "source": [
    "def transpose_matrix(l):\n",
    "    n=len(l)\n",
    "    result=[[0]*n for i in range(len(l[0]))]\n",
    "    \n",
    "    for i in range(len(l)):\n",
    "        for j in range(len(l[0])):\n",
    "            result[j][i]+= l[i][j] \n",
    "    \n",
    "    return result\n",
    "\n",
    "print(transpose_matrix([ [5, 5], [6, 7], [9, 1] ]))\n",
    "print( transpose_matrix([ [1, 1, 1], [2, 2, 2], [3, 3, 3] ]))"
   ]
  },
  {
   "cell_type": "markdown",
   "metadata": {},
   "source": [
    "2. Create a function that determines whether a string is a valid hex code.\n",
    "A hex code must begin with a pound key # and is exactly 6 characters in\n",
    "length. Each character must be a digit from 0-9 or an alphabetic character\n",
    "from A-F. All alphabetic characters may be uppercase or lowercase.\n",
    "Examples\n",
    "is_valid_hex_code(&quot;#CD5C5C&quot;) ➞ True\n",
    "is_valid_hex_code(&quot;#EAECEE&quot;) ➞ True\n",
    "is_valid_hex_code(&quot;#eaecee&quot;) ➞ True\n",
    "is_valid_hex_code(&quot;#CD5C58C&quot;) ➞ False\n",
    " Length exceeds 6\n",
    "is_valid_hex_code(&quot;#CD5C5Z&quot;) ➞ False\n",
    " Not all alphabetic characters in A-F\n",
    "is_valid_hex_code(&quot;#CD5C&amp;C&quot;) ➞ False\n",
    " Contains unacceptable character\n",
    "\n",
    "is_valid_hex_code(&quot;CD5C5C&quot;) ➞ False\n",
    " Missing #"
   ]
  },
  {
   "cell_type": "code",
   "execution_count": 90,
   "metadata": {},
   "outputs": [
    {
     "name": "stdout",
     "output_type": "stream",
     "text": [
      "True\n",
      "True\n",
      "True\n",
      "False\n",
      "False\n",
      "False\n"
     ]
    }
   ],
   "source": [
    "def is_valid_hex_code(d):\n",
    "    alpha=[\"a\",\"b\",\"c\",\"d\",\"e\",\"f\"]\n",
    "    flag=False\n",
    "    \n",
    "    if d[0]==\"#\" and len(d)==7:\n",
    "        d=d[1:]\n",
    "        for i in d:\n",
    "            \n",
    "            if i.lower() in alpha or i.isnumeric():\n",
    "                flag=True\n",
    "            else:\n",
    "                flag=False\n",
    "                break\n",
    "    return flag\n",
    "                \n",
    "                \n",
    "print(is_valid_hex_code(\"#CD5C5C\") )   \n",
    "print(is_valid_hex_code(\"#EAECEE\"))\n",
    "print(is_valid_hex_code(\"#eaecee\"))\n",
    "print(is_valid_hex_code(\"#CD5C58C\"))\n",
    "print(is_valid_hex_code(\"#CD5C5Z\") )\n",
    "print(is_valid_hex_code(\"#CD5C&C\"))"
   ]
  },
  {
   "cell_type": "markdown",
   "metadata": {},
   "source": [
    "3. Given a list of math equations (given as strings), return the percentage of\n",
    "correct answers as a string. Round to the nearest whole number.\n",
    "Examples\n",
    "mark_maths([&quot;2+2=4&quot;, &quot;3+2=5&quot;, &quot;10-3=3&quot;, &quot;5+5=10&quot;]) ➞ &quot;75%&quot;\n",
    "mark_maths([&quot;1-2=-2&quot;]), &quot;0%&quot;\n",
    "mark_maths([&quot;2+3=5&quot;, &quot;4+4=9&quot;, &quot;3-1=2&quot;]) ➞ &quot;67%&quot;"
   ]
  },
  {
   "cell_type": "code",
   "execution_count": 188,
   "metadata": {},
   "outputs": [
    {
     "name": "stdout",
     "output_type": "stream",
     "text": [
      "75%\n",
      "0%\n",
      "67%\n"
     ]
    }
   ],
   "source": [
    "import math\n",
    "def assign_pos(exp):\n",
    "    for i in range(len(exp)):\n",
    "        if exp[i]==\"=\":\n",
    "            return i\n",
    "        \n",
    "def percentage(final,n):\n",
    "    per=(final/n) * 100\n",
    "    per=math.ceil(per)\n",
    "    \n",
    "    return str(per) + \"%\"\n",
    "    \n",
    "    \n",
    "def mark_maths(ls):\n",
    "    final=0\n",
    "    n=len(ls)\n",
    "    for i in ls:\n",
    "        x=assign_pos(i)\n",
    "        ans=eval(i[:x])\n",
    "        given=i[x+1:]\n",
    "        if ans==int(given):\n",
    "            final+=1\n",
    "    \n",
    "    x=percentage(final,n)\n",
    "            \n",
    "    return x\n",
    "\n",
    "print(mark_maths([\"2+2=4\", \"3+2=5\", \"10-3=3\", \"5+5=10\"]) )\n",
    "print(mark_maths([\"1-2=-2\"]))\n",
    "print(mark_maths([\"2+3=5\", \"4+4=9\", \"3-1=2\"]))"
   ]
  },
  {
   "cell_type": "markdown",
   "metadata": {},
   "source": [
    "4. There are two players, Alice and Bob, each with a 3-by-3 grid. A referee\n",
    "tells Alice to fill out one particular row in the grid (say the second row) by\n",
    "putting either a 1 or a 0 in each box, such that the sum of the numbers in that\n",
    "row is odd. The referee tells Bob to fill out one column in the grid (say the first\n",
    "column) by putting either a 1 or a 0 in each box, such that the sum of the\n",
    "numbers in that column is even.\n",
    "Alice and Bob win the game if Alice’s numbers give an odd sum, Bob’s give\n",
    "an even sum, and (most important) they’ve each written down the same\n",
    "number in the one square where their row and column intersect.\n",
    "Examples\n",
    "magic_square_game([2, &quot;100&quot;], [1, &quot;101&quot;]) ➞ False\n",
    "magic_square_game([2, &quot;001&quot;], [1, &quot;101&quot;]) ➞ True\n",
    "magic_square_game([3, &quot;111&quot;], [2, &quot;011&quot;]) ➞ True\n",
    "magic_square_game([1, &quot;010&quot;], [3, &quot;101&quot;]) ➞ False\n",
    "Two lists, Alice [row, &quot;her choice&quot;], Bob [column, &quot;his choice&quot;]"
   ]
  },
  {
   "cell_type": "code",
   "execution_count": 252,
   "metadata": {},
   "outputs": [
    {
     "name": "stdout",
     "output_type": "stream",
     "text": [
      "True\n",
      "False\n",
      "True\n",
      "True\n",
      "False\n"
     ]
    }
   ],
   "source": [
    "def magic_square_game(alice,bob):\n",
    "    row,r_alice=alice\n",
    "    col,c_bob=bob\n",
    "    \n",
    "    one=r_alice[col-1]\n",
    "    two=c_bob[row-1]\n",
    "    \n",
    "    return one==two\n",
    "\n",
    "print(magic_square_game([3, \"111\"], [2, \"011\"]))\n",
    "print(magic_square_game([2, \"100\"], [1, \"101\"]))\n",
    "print(magic_square_game([2, \"001\"], [1, \"101\"]))\n",
    "print(magic_square_game([3, \"111\"], [2, \"011\"]))\n",
    "print(magic_square_game([1, \"010\"], [3, \"101\"]))"
   ]
  },
  {
   "cell_type": "markdown",
   "metadata": {},
   "source": [
    "5. From point A, an object is moving towards point B at constant velocity va\n",
    "(in km/hr). From point B, another object is moving towards point A at constant\n",
    "velocity vb (in km/hr). Knowing this and the distance between point A and B\n",
    "(in km), write a function that returns how much time passes until both objects\n",
    "meet.\n",
    "Format the output like this:\n",
    "\n",
    "&quot;2h 23min 34s&quot;\n",
    "Examples\n",
    "lets_meet(100, 10, 30) ➞ &quot;2h 30min 0s&quot;\n",
    "lets_meet(280, 70, 80) ➞ &quot;1h 52min 0s&quot;\n",
    "lets_meet(90, 75, 65) ➞ &quot;0h 38min 34s&quot;"
   ]
  },
  {
   "cell_type": "code",
   "execution_count": 352,
   "metadata": {},
   "outputs": [
    {
     "name": "stdout",
     "output_type": "stream",
     "text": [
      "2h 30min 0s\n",
      "1h 52min 0s\n",
      "0h 38min 34s\n"
     ]
    }
   ],
   "source": [
    "def lets_meet(dist,a,b):\n",
    "    time= dist/(a+b) * 3600\n",
    "    \n",
    "    hour=time//3600\n",
    "    minute=time%3600//60\n",
    "    seconds=time%3600%60\n",
    "    \n",
    "    return \"{}h {}min {}s\".format(int(hour),int(minute),int(seconds))\n",
    "print(lets_meet(100, 10, 30))\n",
    "print(lets_meet(280, 70, 80))\n",
    "print(lets_meet(90, 75, 65) )"
   ]
  }
 ],
 "metadata": {
  "kernelspec": {
   "display_name": "Python 3",
   "language": "python",
   "name": "python3"
  },
  "language_info": {
   "codemirror_mode": {
    "name": "ipython",
    "version": 3
   },
   "file_extension": ".py",
   "mimetype": "text/x-python",
   "name": "python",
   "nbconvert_exporter": "python",
   "pygments_lexer": "ipython3",
   "version": "3.8.5"
  }
 },
 "nbformat": 4,
 "nbformat_minor": 4
}
