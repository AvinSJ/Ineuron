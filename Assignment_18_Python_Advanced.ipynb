{
 "cells": [
  {
   "cell_type": "markdown",
   "metadata": {},
   "source": [
    "1. A robot has been given a list of movement instructions. Each instruction is\n",
    "either left, right, up or down, followed by a distance to move. The robot starts\n",
    "at [0, 0]. You want to calculate where the robot will end up and return its final\n",
    "position as a list.\n",
    "To illustrate, if the robot is given the following instructions:\n",
    "[&quot;right 10&quot;, &quot;up 50&quot;, &quot;left 30&quot;, &quot;down 10&quot;]\n",
    "It will end up 20 left and 40 up from where it started, so we return [-20, 40].\n",
    "Examples\n",
    "track_robot([&quot;right 10&quot;, &quot;up 50&quot;, &quot;left 30&quot;, &quot;down 10&quot;]) ➞ [-20, 40]\n",
    "track_robot([]) ➞ [0, 0]\n",
    "// If there are no instructions, the robot doesn&#39;t move.\n",
    "track_robot([&quot;right 100&quot;, &quot;right 100&quot;, &quot;up 500&quot;, &quot;up 10000&quot;]) ➞ [200, 10500]"
   ]
  },
  {
   "cell_type": "code",
   "execution_count": 65,
   "metadata": {},
   "outputs": [
    {
     "name": "stdout",
     "output_type": "stream",
     "text": [
      "[-20, 40]\n",
      "[0, 0]\n",
      "[200, 10500]\n"
     ]
    }
   ],
   "source": [
    "def track_robot(ls):\n",
    "    start=[0,0]\n",
    "    \n",
    "    for i in ls:\n",
    "        x=i.split()\n",
    "        if x[0]==\"right\":\n",
    "            start[0]+=int(x[1])\n",
    "            \n",
    "        elif x[0]== \"up\":\n",
    "            start[1]+=int(x[1])\n",
    "            \n",
    "        elif x[0]==\"left\":\n",
    "            start[0]-=int(x[1])\n",
    "            \n",
    "        elif x[0]==\"down\":\n",
    "            start[1]-=int(x[1])\n",
    "            \n",
    "    return start\n",
    "print(track_robot([\"right 10\", \"up 50\", \"left 30\", \"down 10\"]) )\n",
    "print( track_robot([]) )\n",
    "print(track_robot([\"right 100\", \"right 100\", \"up 500\", \"up 10000\"]) )"
   ]
  },
  {
   "cell_type": "markdown",
   "metadata": {},
   "source": [
    "2. Write a function that will return the longest word in a sentence. In cases\n",
    "where more than one word is found, return the first one.\n",
    "Examples\n",
    "find_longest(&quot;A thing of beauty is a joy forever.&quot;) ➞ &quot;forever&quot;\n",
    "find_longest(&quot;Forgetfulness is by all means powerless!&quot;) ➞ &quot;forgetfulness&quot;\n",
    "find_longest(&quot;\\&quot;Strengths\\&quot; is the longest and most commonly used word that\n",
    "contains only a single vowel.&quot;) ➞ &quot;strengths&quot;"
   ]
  },
  {
   "cell_type": "code",
   "execution_count": 85,
   "metadata": {},
   "outputs": [
    {
     "name": "stdout",
     "output_type": "stream",
     "text": [
      "forever.\n",
      "Forgetfulness\n",
      "\"Strengths\"\n"
     ]
    }
   ],
   "source": [
    "def find_longest(string):\n",
    "    count=0\n",
    "    for i in string.split():\n",
    "        if len(i) > count:\n",
    "            ans=[]\n",
    "            ans.append(i)\n",
    "            count=len(i)\n",
    "    return ans[0]\n",
    "print(find_longest(\"A thing of beauty is a joy forever.\") )\n",
    "print(find_longest(\"Forgetfulness is by all means powerless\"))\n",
    "print(find_longest(\" \\\"Strengths\\\" is the longest and most commonly used word that contains only a single vowel.\"))"
   ]
  },
  {
   "cell_type": "markdown",
   "metadata": {},
   "source": [
    "3. Create a function to check if a candidate is qualified in an imaginary coding\n",
    "interview of an imaginary tech startup.\n",
    "The criteria for a candidate to be qualified in the coding interview is:\n",
    ". The candidate should have complete all the questions.\n",
    ". The maximum time given to complete the interview is 120 minutes.\n",
    ". The maximum time given for very easy questions is 5 minutes each.\n",
    ". The maximum time given for easy questions is 10 minutes each.\n",
    ". The maximum time given for medium questions is 15 minutes each.\n",
    ". The maximum time given for hard questions is 20 minutes each.\n",
    "\n",
    "If all the above conditions are satisfied, return &quot;qualified&quot;, else return\n",
    "&quot;disqualified&quot;.\n",
    "You will be given a list of time taken by a candidate to solve a particular\n",
    "question and the total time taken by the candidate to complete the interview.\n",
    "Given a list , in a true condition will always be in the format [very easy, very\n",
    "easy, easy, easy, medium, medium, hard, hard].\n",
    "The maximum time to complete the interview includes a buffer time of 20\n",
    "minutes.\n",
    "Examples\n",
    "interview([5, 5, 10, 10, 15, 15, 20, 20], 120) ➞ &quot;qualified&quot;\n",
    "interview([2, 3, 8, 6, 5, 12, 10, 18], 64) ➞ &quot;qualified&quot;\n",
    "interview([5, 5, 10, 10, 25, 15, 20, 20], 120) ➞ &quot;disqualified&quot;\n",
    " Exceeded the time limit for a medium question.\n",
    "interview([5, 5, 10, 10, 15, 15, 20], 120) ➞ &quot;disqualified&quot;\n",
    " Did not complete all the questions.\n",
    "interview([5, 5, 10, 10, 15, 15, 20, 20], 130) ➞ &quot;disqualified&quot;\n",
    " Solved all the questions in their respected time limits but exceeded the total\n",
    "time limit of the interview."
   ]
  },
  {
   "cell_type": "code",
   "execution_count": 137,
   "metadata": {},
   "outputs": [
    {
     "name": "stdout",
     "output_type": "stream",
     "text": [
      "qualified\n",
      "qualified\n",
      "disqualified\n",
      "disqualified\n",
      "disqualified\n"
     ]
    }
   ],
   "source": [
    "def interview(time,c_time):\n",
    "    flag='qualified'\n",
    "    if c_time<=120 and len(time)==8:\n",
    "        for i in range(2):\n",
    "            if time[i]>5:\n",
    "                flag=\"disqualified\"\n",
    "        for i in range(2,4):\n",
    "            if time[i]>10:\n",
    "                flag=\"disqualified\"\n",
    "        for i in range(4,6):\n",
    "            if time[i]>15:\n",
    "                flag=\"disqualified\"\n",
    "        for i in range(6,8):\n",
    "            if time[i]>20:\n",
    "                flag=\"disqualified\"\n",
    "    else:\n",
    "        flag=\"disqualified\"\n",
    "        \n",
    "    return flag\n",
    "                \n",
    "print(interview([5, 5, 10, 10, 15, 15, 20, 20], 120))   \n",
    "print(interview([2, 3, 8, 6, 5, 12, 10, 18], 64))\n",
    "print(interview([5, 5, 10, 10, 25, 15, 20, 20], 120))\n",
    "print(interview([5, 5, 10, 10, 15, 15, 20], 120))\n",
    "print(interview([5, 5, 10, 10, 15, 15, 20, 20], 130))"
   ]
  },
  {
   "cell_type": "markdown",
   "metadata": {},
   "source": [
    "4. Write a function that divides a list into chunks of size n, where n is the\n",
    "length of each chunk.\n",
    "Examples\n",
    "chunkify([2, 3, 4, 5], 2) ➞ [[2, 3], [4, 5]]\n",
    "chunkify([2, 3, 4, 5, 6], 2) ➞ [[2, 3], [4, 5], [6]]\n",
    "chunkify([2, 3, 4, 5, 6, 7], 3) ➞ [[2, 3, 4], [5, 6, 7]]\n",
    "chunkify([2, 3, 4, 5, 6, 7], 1) ➞ [[2], [3], [4], [5], [6], [7]]\n",
    "chunkify([2, 3, 4, 5, 6, 7], 7) ➞ [[2, 3, 4, 5, 6, 7]]"
   ]
  },
  {
   "cell_type": "code",
   "execution_count": 210,
   "metadata": {},
   "outputs": [
    {
     "name": "stdout",
     "output_type": "stream",
     "text": [
      "[[2, 3], [4, 5]]\n",
      "[[2, 3], [4, 5], [6]]\n",
      "[[2, 3, 4], [5, 6, 7]]\n",
      "[[2], [3], [4], [5], [6], [7]]\n",
      "[[2, 3, 4, 5, 6, 7]]\n"
     ]
    }
   ],
   "source": [
    "def chunkify(ls,n):\n",
    "    fin=[]\n",
    "    for i in range(0,len(ls),n):\n",
    "        fin.append(ls[i:i+n])\n",
    "        \n",
    "    return fin\n",
    "  \n",
    "\n",
    "\n",
    "print(chunkify([2, 3, 4, 5], 2) )\n",
    "print(chunkify([2, 3, 4, 5, 6], 2))\n",
    "print(chunkify([2, 3, 4, 5, 6, 7], 3))\n",
    "print( chunkify([2, 3, 4, 5, 6, 7], 1))\n",
    "print(chunkify([2, 3, 4, 5, 6, 7], 7))"
   ]
  },
  {
   "cell_type": "markdown",
   "metadata": {},
   "source": [
    "5. You are given a list of strings consisting of grocery items, with prices in\n",
    "parentheses. Return a list of prices in float format.\n",
    "\n",
    "Examples\n",
    "get_prices([&quot;salad ($4.99)&quot;]) ➞ [4.99]\n",
    "get_prices([\n",
    "&quot;artichokes ($1.99)&quot;,\n",
    "&quot;rotiserrie chicken ($5.99)&quot;,\n",
    "&quot;gum ($0.75)&quot;\n",
    "])\n",
    "➞ [1.99, 5.99, 0.75]\n",
    "get_prices([\n",
    "&quot;ice cream ($5.99)&quot;,\n",
    "&quot;banana ($0.20)&quot;,\n",
    "&quot;sandwich ($8.50)&quot;,\n",
    "&quot;soup ($1.99)&quot;\n",
    "])\n",
    "➞ [5.99, 0.2, 8.50, 1.99]"
   ]
  },
  {
   "cell_type": "code",
   "execution_count": 358,
   "metadata": {},
   "outputs": [
    {
     "name": "stdout",
     "output_type": "stream",
     "text": [
      "[4.99]\n",
      "[5.99, 0.2, 8.5, 1.99]\n",
      "[1.99, 5.99, 0.75]\n"
     ]
    }
   ],
   "source": [
    "def check_num(x):\n",
    "    for i in x:\n",
    "        for v in i:\n",
    "            if v.isnumeric() or v==\".\":\n",
    "                return True\n",
    "                \n",
    "\n",
    "def get_prices(ls):\n",
    "    ans=[]\n",
    "    for i in ls:\n",
    "        x=i.split()\n",
    "        for i in x:\n",
    "            if check_num(i) == True:\n",
    "                ans.append(i)\n",
    "    \n",
    "    a=[]\n",
    "    for i in ans:\n",
    "        i=i.replace(\"$\",\"\")\n",
    "        i=i.replace(\"(\",\"\")\n",
    "        i=i.replace(\")\",\"\")\n",
    "        a.append(float(i))\n",
    "        \n",
    "                \n",
    "    return a\n",
    "            \n",
    "            \n",
    "\n",
    "print(get_prices([\"salad ($4.99)\"]))\n",
    "print(get_prices([\"ice cream ($5.99)\",\"banana ($0.20)\",\"sandwich ($8.50)\",\"soup ($1.99)\"]))\n",
    "print(get_prices([ \"artichokes ( 1.99)\",\"rotiserrie chicken ( 5.99)\", \"gum ($0.75)\" ]))"
   ]
  }
 ],
 "metadata": {
  "kernelspec": {
   "display_name": "Python 3",
   "language": "python",
   "name": "python3"
  },
  "language_info": {
   "codemirror_mode": {
    "name": "ipython",
    "version": 3
   },
   "file_extension": ".py",
   "mimetype": "text/x-python",
   "name": "python",
   "nbconvert_exporter": "python",
   "pygments_lexer": "ipython3",
   "version": "3.8.5"
  }
 },
 "nbformat": 4,
 "nbformat_minor": 4
}
