{
 "cells": [
  {
   "cell_type": "markdown",
   "metadata": {},
   "source": [
    "1. Write a Python Program to Find LCM?"
   ]
  },
  {
   "cell_type": "code",
   "execution_count": 13,
   "metadata": {},
   "outputs": [
    {
     "name": "stdout",
     "output_type": "stream",
     "text": [
      "Enter a number : 120\n",
      "Enter a number : 36\n",
      "The Least Common Multiple of 120 and 36 are 360\n"
     ]
    }
   ],
   "source": [
    "x=int(input(\"Enter a number : \"))\n",
    "y=int(input(\"Enter a number : \"))\n",
    "\n",
    "def lcm(x,y):\n",
    "    if x>y:\n",
    "        greater=x\n",
    "    else:\n",
    "        greater=y\n",
    "        \n",
    "    while(True):\n",
    "        if ((greater%x==0) and (greater%y==0)):\n",
    "            lcm=greater\n",
    "            break\n",
    "        greater+=1\n",
    "    return lcm\n",
    "print(\"The Least Common Multiple of {} and {} are {}\".format(x,y,lcm(x,y)))"
   ]
  },
  {
   "cell_type": "markdown",
   "metadata": {},
   "source": [
    "2. Write a Python Program to Find HCF?"
   ]
  },
  {
   "cell_type": "code",
   "execution_count": 15,
   "metadata": {},
   "outputs": [
    {
     "name": "stdout",
     "output_type": "stream",
     "text": [
      "Enter a number : 120\n",
      "Enter a number : 36\n",
      "The Highest Common Factor of 120 and 36 are 12\n"
     ]
    }
   ],
   "source": [
    "x=int(input(\"Enter a number : \"))\n",
    "y=int(input(\"Enter a number : \"))\n",
    "\n",
    "def hcf(x,y):\n",
    "    if x>y:\n",
    "        smaller=y\n",
    "    else:\n",
    "        smaller=x\n",
    "        \n",
    "    for i in range(1,smaller+1):\n",
    "        if (x%i==0) and (y%i==0):\n",
    "            hcf=i\n",
    "    return hcf\n",
    "\n",
    "print(\"The Highest Common Factor of {} and {} are {}\".format(x,y,hcf(x,y)))\n",
    "    "
   ]
  },
  {
   "cell_type": "markdown",
   "metadata": {},
   "source": [
    "3. Write a Python Program to Convert Decimal to Binary, Octal and Hexadecimal?"
   ]
  },
  {
   "cell_type": "code",
   "execution_count": 24,
   "metadata": {},
   "outputs": [
    {
     "name": "stdout",
     "output_type": "stream",
     "text": [
      "Enter a Decimal Number : 18\n",
      "18 converted to Binary is 0b10010\n",
      "18 converted to Octal is 0o22\n",
      "18 converted to Hexadecimal is 0x12\n"
     ]
    }
   ],
   "source": [
    "num=int(input(\"Enter a Decimal Number : \"))\n",
    "\n",
    "print(\"{} converted to Binary is {}\".format(num,bin(num)))\n",
    "print(\"{} converted to Octal is {}\".format(num,oct(num)))\n",
    "print(\"{} converted to Hexadecimal is {}\".format(num,hex(num)))\n",
    "\n"
   ]
  },
  {
   "cell_type": "markdown",
   "metadata": {},
   "source": [
    "4. Write a Python Program To Find ASCII value of a character?"
   ]
  },
  {
   "cell_type": "code",
   "execution_count": 33,
   "metadata": {},
   "outputs": [
    {
     "name": "stdout",
     "output_type": "stream",
     "text": [
      "Enter  Values : AVIN\n",
      "The ASCII Value of A is 65 \n",
      "\n",
      "The ASCII Value of V is 86 \n",
      "\n",
      "The ASCII Value of I is 73 \n",
      "\n",
      "The ASCII Value of N is 78 \n",
      "\n"
     ]
    }
   ],
   "source": [
    "num=input(\"Enter  Values : \")\n",
    "\n",
    "for i in num:\n",
    "    print(\"The ASCII Value of {} is {} \\n\".format(i,ord(i)))"
   ]
  },
  {
   "cell_type": "markdown",
   "metadata": {},
   "source": [
    "5. Write a Python Program to Make a Simple Calculator with 4 basic mathematical operations?"
   ]
  },
  {
   "cell_type": "code",
   "execution_count": 7,
   "metadata": {},
   "outputs": [
    {
     "name": "stdout",
     "output_type": "stream",
     "text": [
      "SELECT OPERATION\n",
      "1 for ADDITION\n",
      "2 for SUBTRACTION\n",
      "3 for MULTIPLICATION\n",
      "4 for DIVISION\n",
      "Enter the Numerial Value for an operator : 3\n",
      "Enter a number : 45\n",
      "Enter a number : 200\n",
      "The Multiplication  of 45 and 200 are 9000\n"
     ]
    }
   ],
   "source": [
    "def add(x,y):\n",
    "    return x+y\n",
    "def subtrat(x,y):\n",
    "    return x-y\n",
    "def multiply(x,y):\n",
    "    return x*y\n",
    "def divide(x,y):\n",
    "    return (x/y)\n",
    "\n",
    "print(\"SELECT OPERATION\")\n",
    "print(\"1 for ADDITION\")\n",
    "print(\"2 for SUBTRACTION\")\n",
    "print(\"3 for MULTIPLICATION\")\n",
    "print(\"4 for DIVISION\")\n",
    "\n",
    "while(True):\n",
    "    choice=input(\"Enter the Numerial Value for an operator : \")\n",
    "    \n",
    "    if choice in (\"1\",\"2\",\"3\",\"4\"):\n",
    "        num_1=int(input(\"Enter a number : \"))\n",
    "        num_2=int(input(\"Enter a number : \"))\n",
    "        \n",
    "        if choice==\"1\":\n",
    "            print(\"The Addition of {} and {} are {}\".format(num_1,num_2,add(num_1,num_2)))\n",
    "        if choice==\"2\":\n",
    "            print(\"The Subtraction of {} and {} are {}\".format(num_1,num_2,subtrat(num_1,num_2)))\n",
    "        if choice==\"3\":\n",
    "            print(\"The Multiplication  of {} and {} are {}\".format(num_1,num_2,multiply(num_1,num_2)))\n",
    "        if choice==\"4\":\n",
    "            print(\"The Division  of {} and {} are {}\".format(num_1,num_2,divide(num_1,num_2)))\n",
    "        break\n",
    "    else:\n",
    "        print(\"Not Valid\")\n",
    "    \n",
    "        \n",
    "        "
   ]
  },
  {
   "cell_type": "code",
   "execution_count": null,
   "metadata": {},
   "outputs": [],
   "source": []
  },
  {
   "cell_type": "code",
   "execution_count": null,
   "metadata": {},
   "outputs": [],
   "source": [
    "p"
   ]
  },
  {
   "cell_type": "code",
   "execution_count": null,
   "metadata": {},
   "outputs": [],
   "source": []
  }
 ],
 "metadata": {
  "kernelspec": {
   "display_name": "Python 3",
   "language": "python",
   "name": "python3"
  },
  "language_info": {
   "codemirror_mode": {
    "name": "ipython",
    "version": 3
   },
   "file_extension": ".py",
   "mimetype": "text/x-python",
   "name": "python",
   "nbconvert_exporter": "python",
   "pygments_lexer": "ipython3",
   "version": "3.8.5"
  }
 },
 "nbformat": 4,
 "nbformat_minor": 4
}
