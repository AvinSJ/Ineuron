{
 "cells": [
  {
   "cell_type": "markdown",
   "metadata": {},
   "source": [
    "1. Rondo Form is a type of musical structure, in which there is a recurring\n",
    "theme/refrain, notated as A. Here are the rules for valid rondo forms:\n",
    "- Rondo forms always start and end with an A section.\n",
    "- In between the A sections, there should be contrasting sections notated as\n",
    "B, then C, then D, etc... No letter should be skipped.\n",
    "- There shouldn&#39;t be any repeats in the sequence (such as ABBACCA).\n",
    "Create a function which validates whether a given string is a valid Rondo\n",
    "Form.\n",
    "Examples\n",
    "valid_rondo(&quot;ABACADAEAFAGAHAIAJA&quot;) ➞ True\n",
    "valid_rondo(&quot;ABA&quot;) ➞ True\n",
    "valid_rondo(&quot;ABBACCA&quot;) ➞ False\n",
    "valid_rondo(&quot;ACAC&quot;) ➞ False\n",
    "valid_rondo(&quot;A&quot;) ➞ False"
   ]
  },
  {
   "cell_type": "code",
   "execution_count": 246,
   "metadata": {},
   "outputs": [
    {
     "name": "stdout",
     "output_type": "stream",
     "text": [
      "True\n",
      "True\n",
      "False\n",
      "False\n",
      "False\n"
     ]
    }
   ],
   "source": [
    "def valid_rondo(string):\n",
    "    flag=False\n",
    "    if len(string)%2!=0:\n",
    "        for i in range(len(string)-2):\n",
    "            if string[i]==\"A\":\n",
    "                if string[i+2]==\"A\":\n",
    "                    flag=True\n",
    "                \n",
    "    return flag\n",
    "            \n",
    "print(valid_rondo(\"ABACADAEAFAGAHAIAJA\") )    \n",
    "print(valid_rondo(\"ABA\"))\n",
    "print(valid_rondo(\"ABBACCA\"))\n",
    "print(valid_rondo(\"ACAC\"))\n",
    "print(valid_rondo(\"A\"))"
   ]
  },
  {
   "cell_type": "markdown",
   "metadata": {},
   "source": [
    "2. Create a function that returns the whole of the first sentence which\n",
    "contains a specific word. Include the full stop at the end of the sentence.\n",
    "Examples\n",
    "txt = &quot;I have a cat. I have a mat. Things are going swell.&quot;\n",
    "sentence_searcher(txt, &quot;have&quot;) ➞ &quot;I have a cat.&quot;\n",
    "sentence_searcher(txt, &quot;MAT&quot;) ➞ &quot;I have a mat.&quot;\n",
    "sentence_searcher(txt, &quot;things&quot;) ➞ &quot;Things are going swell.&quot;\n",
    "sentence_searcher(txt, &quot;flat&quot;) ➞ &quot;&quot;"
   ]
  },
  {
   "cell_type": "code",
   "execution_count": 245,
   "metadata": {},
   "outputs": [
    {
     "name": "stdout",
     "output_type": "stream",
     "text": [
      "I have a cat\n",
      "I have a mat\n",
      "Things are going swell\n",
      "\"\"\n"
     ]
    }
   ],
   "source": [
    "def sentence_searcher(txt,key):\n",
    "    text=txt.lower().rsplit(\".\")\n",
    "        \n",
    "    ans=[]\n",
    "    for i in text:\n",
    "        if key.lower() in i:\n",
    "            ans.append(i)\n",
    "    else:\n",
    "        ans.append(\" \")\n",
    "\n",
    "    ans=ans[0]\n",
    "    if ans==\" \":\n",
    "        return f'\\\"\"'\n",
    "    else:\n",
    "        return \"\".join(ans).lstrip().capitalize()\n",
    " \n",
    "\n",
    "\n",
    "txt = \"I have a cat. I have a mat. Things are going swell.\"\n",
    "\n",
    "print(sentence_searcher(txt, \"have\"))\n",
    "print(sentence_searcher(txt, \"MAT\") )\n",
    "print(sentence_searcher(txt, \"things\"))\n",
    "print(sentence_searcher(txt, \"flat\"))"
   ]
  },
  {
   "cell_type": "markdown",
   "metadata": {},
   "source": [
    "3. Given a number, find the &quot;round &quot;of each digit of the number. An integer is\n",
    "called &quot;round&quot; if all its digits except the leftmost (most significant) are equal to\n",
    "zero.\n",
    "- Round numbers: 4000, 1, 9, 800, 90\n",
    "- Not round numbers: 110, 707, 222, 1001\n",
    "\n",
    "Create a function that takes a number and returns the &quot;round&quot; of each digit\n",
    "(except if the digit is zero) as a string. Check out the following examples for\n",
    "more clarification.\n",
    "Examples\n",
    "sum_round(101) ➞ &quot;1 100&quot;\n",
    "sum_round(1234) ➞ &quot;4 30 200 1000&quot;\n",
    "sum_round(54210) ➞ &quot;10 200 4000 50000&quot;"
   ]
  },
  {
   "cell_type": "code",
   "execution_count": 284,
   "metadata": {},
   "outputs": [
    {
     "name": "stdout",
     "output_type": "stream",
     "text": [
      "1 100 \n",
      "4 30 200 1000 \n",
      "10 200 4000 50000 \n"
     ]
    }
   ],
   "source": [
    "def sum_round(num):\n",
    "    n=len(str(num))\n",
    "    \n",
    "    i=1\n",
    "    numb=num\n",
    "    d=1\n",
    "    ans=\"\"\n",
    "    while i<=n:\n",
    "        z=numb%10\n",
    "        if z > 0:\n",
    "            ans+= str(z*d) + \" \"\n",
    "        d=d*10\n",
    "        numb=numb//10\n",
    "        i+=1\n",
    "        \n",
    "        \n",
    "        \n",
    "    return ans\n",
    "print(sum_round(101))\n",
    "print(sum_round(1234))\n",
    "print( sum_round(54210))"
   ]
  },
  {
   "cell_type": "markdown",
   "metadata": {},
   "source": [
    "4. Your task, is to create N x N multiplication table, of size n provided in\n",
    "parameter.\n",
    "For example, when n is 5, the multiplication table is:\n",
    "- 1, 2, 3, 4, 5\n",
    "- 2, 4, 6, 8, 10\n",
    "- 3, 6, 9, 12, 15\n",
    "- 4, 8, 12, 16, 20\n",
    "- 5, 10, 15, 20, 25 \n",
    "This example will result in:\n",
    "[[1, 2, 3, 4, 5], [2, 4, 6, 8, 10], [3, 6, 9, 12, 15], [4, 8, 12, 16, 20], [5, 10, 15, 20,\n",
    "25]]\n",
    "\n",
    "\n",
    "Examples\n",
    "multiplication_table(1) ➞ [[1]]\n",
    "multiplication_table(3) ➞ [[1, 2, 3], [2, 4, 6], [3, 6, 9]]"
   ]
  },
  {
   "cell_type": "code",
   "execution_count": 552,
   "metadata": {},
   "outputs": [
    {
     "name": "stdout",
     "output_type": "stream",
     "text": [
      "[[1]]\n",
      "[[1, 2, 3], [2, 4, 6], [3, 6, 9]]\n",
      "[[1, 2, 3, 4, 5], [2, 4, 6, 8, 10], [3, 6, 9, 12, 15], [4, 8, 12, 16, 20], [5, 10, 15, 20, 25]]\n"
     ]
    }
   ],
   "source": [
    "def multiplication_table(n):\n",
    "    x=[[i]*n for i in range(1,n+1)]\n",
    "    y=[[i for i in range(1,n+1)]for i in range(1,n+1)]\n",
    "    \n",
    "    result=[[0]*n for i in range(1,n+1)]\n",
    "    \n",
    "    for i in range(len(x)):\n",
    "        for j in range(len(y[i])):\n",
    "             result[i][j]+=x[i][j]*y[i][j]            \n",
    "    \n",
    "    return result\n",
    "print(multiplication_table(1))\n",
    "print(multiplication_table(3))\n",
    "print(multiplication_table(5))"
   ]
  },
  {
   "cell_type": "markdown",
   "metadata": {},
   "source": [
    "5. Create a function that returns True if two lines rhyme and False otherwise.\n",
    "For the purposes of this exercise, two lines rhyme if the last word from each\n",
    "sentence contains the same vowels.\n",
    "Examples\n",
    "does_rhyme(&quot;Sam I am!&quot;, &quot;Green eggs and ham.&quot;) ➞ True\n",
    "does_rhyme(&quot;Sam I am!&quot;, &quot;Green eggs and HAM.&quot;) ➞ True\n",
    " Capitalization and punctuation should not matter.\n",
    "\n",
    "does_rhyme(&quot;You are off to the races&quot;, &quot;a splendid day.&quot;) ➞ False\n",
    "does_rhyme(&quot;and frequently do?&quot;, &quot;you gotta move.&quot;) ➞ False"
   ]
  },
  {
   "cell_type": "code",
   "execution_count": 582,
   "metadata": {},
   "outputs": [
    {
     "name": "stdout",
     "output_type": "stream",
     "text": [
      "True\n",
      "True\n",
      "False\n",
      "False\n"
     ]
    }
   ],
   "source": [
    "def does_rhyme(string_1,string_2):\n",
    "    vowels=[\"a\",\"e\",\"i\",\"o\",\"u\"]\n",
    "    \n",
    "    string_1=string_1.split(\" \")[-1]\n",
    "    string_2=string_2.split(\" \")[-1]\n",
    "    \n",
    "    v=[]\n",
    "    for i in string_1.lower():\n",
    "        if i in vowels:\n",
    "            v.append(i)\n",
    "    t=[]\n",
    "    for i in string_2.lower():\n",
    "        if i in vowels:\n",
    "            t.append(i)\n",
    "            \n",
    "    \n",
    "    if v==t:\n",
    "        return True\n",
    "    else:\n",
    "        return False\n",
    "    \n",
    "    \n",
    "print(does_rhyme(\"Sam I am!\", \"Green eggs and ham.\"))\n",
    "print(does_rhyme(\"Sam I am!\", \"Green eggs and HAM.\"))\n",
    "print(does_rhyme(\"You are off to the races\", \"a splendid day.\") )\n",
    "print(does_rhyme(\"and frequently do?\", \"you gotta move.\"))"
   ]
  }
 ],
 "metadata": {
  "kernelspec": {
   "display_name": "Python 3",
   "language": "python",
   "name": "python3"
  },
  "language_info": {
   "codemirror_mode": {
    "name": "ipython",
    "version": 3
   },
   "file_extension": ".py",
   "mimetype": "text/x-python",
   "name": "python",
   "nbconvert_exporter": "python",
   "pygments_lexer": "ipython3",
   "version": "3.8.5"
  }
 },
 "nbformat": 4,
 "nbformat_minor": 4
}
