{
 "cells": [
  {
   "cell_type": "markdown",
   "metadata": {},
   "source": [
    "1. Write a Python Program to Display Fibonacci Sequence Using Recursion?"
   ]
  },
  {
   "cell_type": "code",
   "execution_count": 15,
   "metadata": {},
   "outputs": [
    {
     "name": "stdout",
     "output_type": "stream",
     "text": [
      "Fibonnaci of : 8\n",
      "0\n",
      "1\n",
      "1\n",
      "2\n",
      "3\n",
      "5\n",
      "8\n",
      "13\n"
     ]
    }
   ],
   "source": [
    "def fib(n):\n",
    "    #recursive fibonnaci function\n",
    "    if n<=1:\n",
    "        return n\n",
    "    else:\n",
    "        return fib(n-1) + fib(n-2)\n",
    "    \n",
    "#Input a number    \n",
    "n=int(input(\"Fibonnaci of : \"))\n",
    "\n",
    "\n",
    "for i in range(n):\n",
    "    print(fib(i))"
   ]
  },
  {
   "cell_type": "markdown",
   "metadata": {},
   "source": [
    "2. Write a Python Program to Find Factorial of Number Using Recursion?`"
   ]
  },
  {
   "cell_type": "code",
   "execution_count": 25,
   "metadata": {},
   "outputs": [
    {
     "name": "stdout",
     "output_type": "stream",
     "text": [
      "Enter a number7\n",
      "Factorial of 7 is 5040\n"
     ]
    }
   ],
   "source": [
    "def fact(n):\n",
    "    if n==1:\n",
    "        return n\n",
    "    else:\n",
    "        return n * fact(n-1)\n",
    "    \n",
    "n=int(input(\"Enter a number\"))\n",
    "\n",
    "print(\"Factorial of {} is {}\".format(n,fact(n)))"
   ]
  },
  {
   "cell_type": "markdown",
   "metadata": {},
   "source": [
    "3. Write a Python Program to calculate your Body Mass Index?"
   ]
  },
  {
   "cell_type": "code",
   "execution_count": 32,
   "metadata": {},
   "outputs": [
    {
     "name": "stdout",
     "output_type": "stream",
     "text": [
      "Enter weight in in Kilogram : 95\n",
      "Enter height in meters : 1.75\n",
      "The BMI is 31.020408163265305 so Suffering from obesity\n"
     ]
    }
   ],
   "source": [
    "weight=float(input(\"Enter weight in in Kilogram : \"))\n",
    "height=float(input(\"Enter height in meters : \"))\n",
    "\n",
    "bmi=weight/(height**2)\n",
    "\n",
    "print(\"The BMI is\", format(bmi), \"so \", end='')\n",
    "\n",
    "if bmi < 18.5:\n",
    "    print(\"underweight\")\n",
    "elif bmi>= 18.5 and bmi <= 24.9:\n",
    "    print(\"Healthy\")\n",
    "elif bmi>=24 and bmi<=30:\n",
    "    print(\"Overweight\")\n",
    "else:\n",
    "    print(\"Suffering from obesity\")"
   ]
  },
  {
   "cell_type": "markdown",
   "metadata": {},
   "source": [
    "4. Write a Python Program to calculate the natural logarithm of any number?"
   ]
  },
  {
   "cell_type": "code",
   "execution_count": 33,
   "metadata": {},
   "outputs": [
    {
     "name": "stdout",
     "output_type": "stream",
     "text": [
      "enter any number : 10\n",
      "2.302585092994046\n"
     ]
    }
   ],
   "source": [
    "import math\n",
    "\n",
    "num=int(input(\"enter any number : \"))\n",
    "\n",
    "print(math.log(num))"
   ]
  },
  {
   "cell_type": "markdown",
   "metadata": {},
   "source": [
    "5. Write a Python Program for cube sum of first n natural numbers?"
   ]
  },
  {
   "cell_type": "code",
   "execution_count": 45,
   "metadata": {},
   "outputs": [
    {
     "name": "stdout",
     "output_type": "stream",
     "text": [
      "Enter a number : 12\n",
      "The Cube Sum of 12 numbers is 6084\n"
     ]
    }
   ],
   "source": [
    "num=int(input(\"Enter a number : \"))\n",
    "\n",
    "x=0\n",
    "\n",
    "for i in range(num+1):\n",
    "    x+=i*i*i\n",
    "    \n",
    "print(\"The Cube Sum of {} numbers is {}\".format(num,x))"
   ]
  },
  {
   "cell_type": "code",
   "execution_count": null,
   "metadata": {},
   "outputs": [],
   "source": []
  },
  {
   "cell_type": "code",
   "execution_count": null,
   "metadata": {},
   "outputs": [],
   "source": []
  }
 ],
 "metadata": {
  "kernelspec": {
   "display_name": "Python 3",
   "language": "python",
   "name": "python3"
  },
  "language_info": {
   "codemirror_mode": {
    "name": "ipython",
    "version": 3
   },
   "file_extension": ".py",
   "mimetype": "text/x-python",
   "name": "python",
   "nbconvert_exporter": "python",
   "pygments_lexer": "ipython3",
   "version": "3.8.5"
  }
 },
 "nbformat": 4,
 "nbformat_minor": 4
}
