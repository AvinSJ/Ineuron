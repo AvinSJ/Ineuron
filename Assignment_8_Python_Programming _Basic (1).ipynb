{
 "cells": [
  {
   "cell_type": "markdown",
   "metadata": {},
   "source": [
    "1. Write a Python Program to Add Two Matrices?"
   ]
  },
  {
   "cell_type": "code",
   "execution_count": 94,
   "metadata": {},
   "outputs": [
    {
     "name": "stdout",
     "output_type": "stream",
     "text": [
      "The Matrix Addition is  [[15, 15, 15], [15, 15, 15], [15, 15, 15]]\n"
     ]
    }
   ],
   "source": [
    "a=[[10,12,14],\n",
    "    [22,45,15],\n",
    "    [9,2,4]]\n",
    "\n",
    "b=[[5,3,1],\n",
    "    [-7,-30,0],\n",
    "    [6,13,11]]\n",
    "\n",
    "result = [[0,0,0],\n",
    "        [0,0,0],\n",
    "        [0,0,0]]\n",
    "\n",
    "for i in range(len(a)):\n",
    "    for j in range(len(b[0])):\n",
    "        result[i][j]=a[i][j] + b[i][j]\n",
    "\n",
    "\n",
    "print(\"The Matrix Addition is \",result)"
   ]
  },
  {
   "cell_type": "markdown",
   "metadata": {},
   "source": [
    "2. Write a Python Program to Multiply Two Matrices?"
   ]
  },
  {
   "cell_type": "code",
   "execution_count": 62,
   "metadata": {},
   "outputs": [
    {
     "name": "stdout",
     "output_type": "stream",
     "text": [
      "The Matrix Multiplication is  [[53, 53, 53], [131, 131, 131], [209, 209, 209]]\n"
     ]
    }
   ],
   "source": [
    "a=[[1,2,3],\n",
    "    [4,5,6],\n",
    "    [7,8,9]]\n",
    "\n",
    "b=[[10,10,10],\n",
    "    [5,5,5],\n",
    "    [11,11,11]]\n",
    "\n",
    "\n",
    "result = [[0,0,0],\n",
    "        [0,0,0],\n",
    "        [0,0,0]]\n",
    "\n",
    "for i in range(len(a)):\n",
    "    for j in range(len(b[0])):\n",
    "        for k in range(len(b)):\n",
    "            result[i][j]+=a[i][k] * b[k][j]\n",
    "\n",
    "\n",
    "print(\"The Matrix Multiplication is \",result)"
   ]
  },
  {
   "cell_type": "markdown",
   "metadata": {},
   "source": [
    "3. Write a Python Program to Transpose a Matrix?"
   ]
  },
  {
   "cell_type": "code",
   "execution_count": 59,
   "metadata": {},
   "outputs": [
    {
     "data": {
      "text/plain": [
       "[[10, 5, 11], [10, 5, 11], [10, 5, 11]]"
      ]
     },
     "execution_count": 59,
     "metadata": {},
     "output_type": "execute_result"
    }
   ],
   "source": [
    "a=[[12,13,4],\n",
    "    [7,9,3],\n",
    "    [5,6,9]]\n",
    "\n",
    "result=[[a[j][i]for j in range(len(a))] for i in range(len(a[0]))]\n",
    "\n",
    "result"
   ]
  },
  {
   "cell_type": "markdown",
   "metadata": {},
   "source": [
    "4. Write a Python Program to Sort Words in Alphabetic Order?"
   ]
  },
  {
   "cell_type": "code",
   "execution_count": 85,
   "metadata": {},
   "outputs": [
    {
     "name": "stdout",
     "output_type": "stream",
     "text": [
      "The Words sorted in Alphabetic Order are : \n",
      "\n",
      "and\n",
      "avin\n",
      "hello\n",
      "is\n",
      "is\n",
      "monday\n",
      "my\n",
      "name\n",
      "today\n"
     ]
    }
   ],
   "source": [
    "string=\"Hello my name is Avin and today is Monday\"\n",
    "words=[word.lower() for word in string.split()]\n",
    "words.sort()\n",
    "\n",
    "print(\"The Words sorted in Alphabetic Order are : \\n\")\n",
    "pr=[print(i) for i in words]\n"
   ]
  },
  {
   "cell_type": "markdown",
   "metadata": {},
   "source": [
    "5. Write a Python Program to Remove Punctuation From a String?"
   ]
  },
  {
   "cell_type": "code",
   "execution_count": 93,
   "metadata": {},
   "outputs": [
    {
     "data": {
      "text/plain": [
       "' Hello  How are you  Isnt today a fine day  shall we meet  soandso That will be 13'"
      ]
     },
     "execution_count": 93,
     "metadata": {},
     "output_type": "execute_result"
    }
   ],
   "source": [
    "punctuations= '''!()-[]{};:'\"\\,<>./?@#$%^&*_~'''\n",
    "\n",
    "string= \"Hello !!! How are you ? Isn't today a fine day ? shall we meet @ soandso. That will be $13\"\n",
    "\n",
    "no_pun=\" \"\n",
    "\n",
    "for char in string:\n",
    "    if char not in punctuations:\n",
    "        no_pun= no_pun + char\n",
    "no_pun"
   ]
  },
  {
   "cell_type": "code",
   "execution_count": null,
   "metadata": {},
   "outputs": [],
   "source": []
  },
  {
   "cell_type": "code",
   "execution_count": null,
   "metadata": {},
   "outputs": [],
   "source": []
  }
 ],
 "metadata": {
  "kernelspec": {
   "display_name": "Python 3",
   "language": "python",
   "name": "python3"
  },
  "language_info": {
   "codemirror_mode": {
    "name": "ipython",
    "version": 3
   },
   "file_extension": ".py",
   "mimetype": "text/x-python",
   "name": "python",
   "nbconvert_exporter": "python",
   "pygments_lexer": "ipython3",
   "version": "3.8.5"
  }
 },
 "nbformat": 4,
 "nbformat_minor": 4
}
