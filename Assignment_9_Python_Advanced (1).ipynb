{
 "cells": [
  {
   "cell_type": "markdown",
   "metadata": {},
   "source": [
    "Q1. In Python 3.X, what are the names and functions of string object types?"
   ]
  },
  {
   "cell_type": "markdown",
   "metadata": {},
   "source": [
    "Answer:\n",
    "    \n",
    "        capitalize() - Return a copy of the string with its first character capitalized and the rest lowercased.\n",
    "        casefold()   - Return a copy of the string with its first character capitalized and the rest lowercased.\n",
    "        endswith()   - Return True if the string ends with the specified suffix, otherwise return False\n",
    "        find()       - Return the lowest index in the string where substring sub is found within the slice s[start:end]\n",
    "        format()     - Perform a string formatting operation. \n",
    "        isalpha()    - Return True if all characters in the string are alphabetic and there is at least one character,           `                      False otherwise.\n",
    "        isnumeric()  - Returns True if all characters are in numericals\n",
    "        join()       - Return a string which is the concatenation of the strings in iterable. \n",
    "        lower()      - Return a copy of the string with all the cased characters  converted to lowercase.\n",
    "        upper()      - Return a copy of the string with all the cased charaterss converetd to uppercase.\n",
    "        split()      - Return a list of the words in the string, using sep as the delimiter string.\n",
    "        lstrip()     - Return a copy of the string with leading characters removed\n",
    "        replace()    - Return a copy of the string with all occurrences of substring old replaced by new. "
   ]
  },
  {
   "cell_type": "markdown",
   "metadata": {},
   "source": [
    "Q2. How do the string forms in Python 3.X vary in terms of operations?"
   ]
  },
  {
   "cell_type": "markdown",
   "metadata": {},
   "source": [
    "Answer: \n",
    "\n",
    "           In Python 2.x the implicit or default string encoding is ASCII whereas in Python 3.x it is Unicode\n",
    "    \n",
    "    "
   ]
  },
  {
   "cell_type": "markdown",
   "metadata": {},
   "source": [
    "Q3. In 3.X, how do you put non-ASCII Unicode characters in a string?"
   ]
  },
  {
   "cell_type": "markdown",
   "metadata": {},
   "source": [
    "Answer:\n",
    "    \n",
    "         In Python 3.x all strings are Unicode by default, so if we want to write such a string, e.g. nonlat, to file, we'd              need to use str.encode and the wb (binary) mode for open to write the string to a file without causing an error"
   ]
  },
  {
   "cell_type": "markdown",
   "metadata": {},
   "source": [
    "Q4. In Python 3.X, what are the key differences between text-mode and binary-mode files?"
   ]
  },
  {
   "cell_type": "markdown",
   "metadata": {},
   "source": [
    "Answer:\n",
    "\n",
    "        When a file is opened in text mode, reading its data automatically decodes its content (per a platform default or a             provided encoding), and returns it as a str; writing takes a str, and automatically encodes it before transferring                to the file. Text mode files also support universal end-of-line translation, and encoding specification arguments.\n",
    "        \n",
    "        When a file is opened in binary mode by adding a \"b\" to the mode string argument in the open() call, reading its                 data does not decode it in any way, and simply returns its content raw and unchanged, as a bytes object; writing                  takes a bytes object and transfers it to the file unchanged. Binary-mode files also accept a bytearray object for                the content to be written to the file."
   ]
  },
  {
   "cell_type": "markdown",
   "metadata": {},
   "source": [
    "Q5. How can you interpret a Unicode text file containing text encoded in a different encoding than\n",
    "your platform&#39;s default?"
   ]
  },
  {
   "cell_type": "markdown",
   "metadata": {},
   "source": [
    "Answer:\n",
    "\n",
    "        A Unicode-based encoding such as UTF-8 can be used.A Unicode encoding also allows many more languages to be mixed on             a single page than any other choice of encoding."
   ]
  },
  {
   "cell_type": "markdown",
   "metadata": {},
   "source": [
    "Q6. What is the best way to make a Unicode text file in a particular encoding format?"
   ]
  },
  {
   "cell_type": "markdown",
   "metadata": {},
   "source": [
    "Answer:\n",
    "    \n",
    "        Use str.encode() and file.write() to write  UNICODE text to a  TEXT file"
   ]
  },
  {
   "cell_type": "markdown",
   "metadata": {},
   "source": [
    "Q7. What qualifies ASCII text as a form of Unicode text?"
   ]
  },
  {
   "cell_type": "markdown",
   "metadata": {},
   "source": [
    "Answer:\n",
    "    \n",
    "        Unicode is a superset of ASCII, and the numbers 0–127 have the same meaning in ASCII as they have in Unicode"
   ]
  },
  {
   "cell_type": "markdown",
   "metadata": {},
   "source": [
    "Q8. How much of an effect does the change in string types in Python 3.X have on your code?"
   ]
  },
  {
   "cell_type": "markdown",
   "metadata": {},
   "source": [
    "Answer:\n",
    "\n",
    "        Change in string types usually does not have much impact on the code.\n",
    "    \n",
    "    "
   ]
  },
  {
   "cell_type": "code",
   "execution_count": null,
   "metadata": {},
   "outputs": [],
   "source": []
  }
 ],
 "metadata": {
  "kernelspec": {
   "display_name": "Python 3",
   "language": "python",
   "name": "python3"
  },
  "language_info": {
   "codemirror_mode": {
    "name": "ipython",
    "version": 3
   },
   "file_extension": ".py",
   "mimetype": "text/x-python",
   "name": "python",
   "nbconvert_exporter": "python",
   "pygments_lexer": "ipython3",
   "version": "3.8.5"
  }
 },
 "nbformat": 4,
 "nbformat_minor": 4
}
