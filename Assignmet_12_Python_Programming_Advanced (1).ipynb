{
 "cells": [
  {
   "cell_type": "markdown",
   "metadata": {},
   "source": [
    "1. For this challenge, forget how to add two numbers together. The best\n",
    "explanation on what to do for this function is this meme:\n",
    "Examples\n",
    "meme_sum(26, 39) ➞ 515\n",
    " 2+3 = 5, 6+9 = 15\n",
    " 26 + 39 = 515\n",
    "meme_sum(122, 81) ➞ 1103\n",
    " 1+0 = 1, 2+8 = 10, 2+1 = 3\n",
    " 122 + 81 = 1103\n",
    "meme_sum(1222, 30277) ➞ 31499"
   ]
  },
  {
   "cell_type": "code",
   "execution_count": 1,
   "metadata": {},
   "outputs": [
    {
     "name": "stdout",
     "output_type": "stream",
     "text": [
      "515\n",
      "1103\n",
      "31499\n"
     ]
    }
   ],
   "source": [
    "def meme_sum(num_1,num_2):\n",
    "     \n",
    "    len_1=len(str((num_1)))\n",
    "    len_2=len(str((num_2)))\n",
    "    \n",
    "    maxx=max(len_1,len_2)\n",
    "    \n",
    "    ans=\"\"\n",
    "    \n",
    "    i=0\n",
    "    while i<maxx:\n",
    "        none=num_1%10\n",
    "        ntwo=num_2%10\n",
    "        \n",
    "        ans=  str(none + ntwo) + ans\n",
    "        num_1= num_1//10\n",
    "        num_2=num_2//10\n",
    "        i+=1\n",
    "    \n",
    "    return ans\n",
    "\n",
    "    \n",
    "    \n",
    "print(meme_sum(26, 39))  \n",
    "print(meme_sum(122, 81))\n",
    "print(meme_sum(1222, 30277))"
   ]
  },
  {
   "cell_type": "markdown",
   "metadata": {},
   "source": [
    "2. Given an integer, create a function that returns the next prime. If the\n",
    "number is prime, return the number itself.\n",
    "Examples\n",
    "\n",
    "next_prime(12) ➞ 13\n",
    "next_prime(24) ➞ 29\n",
    "next_prime(11) ➞ 11\n",
    " 11 is a prime, so we return the number itself."
   ]
  },
  {
   "cell_type": "code",
   "execution_count": 36,
   "metadata": {},
   "outputs": [
    {
     "name": "stdout",
     "output_type": "stream",
     "text": [
      "13\n",
      "29\n",
      "11\n"
     ]
    }
   ],
   "source": [
    "def check_prime(num):\n",
    "    if num>1:\n",
    "        flag=True\n",
    "        for i in range(2,num):\n",
    "            if num%i==0:\n",
    "                flag=False\n",
    "                break\n",
    "    else:\n",
    "        flag=False\n",
    "        \n",
    "    return flag\n",
    "\n",
    "def next_prime(num):\n",
    "    \n",
    "    while True:\n",
    "        if check_prime(num)==True:\n",
    "            return num\n",
    "        else:\n",
    "            num+=1\n",
    "\n",
    "print(next_prime(12))\n",
    "print(next_prime(24))\n",
    "print(next_prime(11))"
   ]
  },
  {
   "cell_type": "markdown",
   "metadata": {},
   "source": [
    "3. If a person traveled up a hill for 18mins at 20mph and then traveled back\n",
    "down the same path at 60mph then their average speed traveled was 30mph.\n",
    "Write a function that returns the average speed traveled given an uphill time,\n",
    "uphill rate and a downhill rate. Uphill time is given in minutes. Return the rate\n",
    "as an integer (mph). No rounding is necessary.\n",
    "Examples\n",
    "ave_spd(18, 20, 60) ➞ 30\n",
    "ave_spd(30, 10, 30) ➞ 15\n",
    "ave_spd(30, 8, 24) ➞ 12"
   ]
  },
  {
   "cell_type": "code",
   "execution_count": 78,
   "metadata": {},
   "outputs": [
    {
     "name": "stdout",
     "output_type": "stream",
     "text": [
      "(30.0, 6.0)\n",
      "(15.0, 5.0)\n",
      "(12.0, 4.0)\n"
     ]
    }
   ],
   "source": [
    "def ave_spd(time,speed_1,speed_2):\n",
    "    \n",
    "    time_in_hour=time/60\n",
    "    \n",
    "    distance= speed_1 * time_in_hour\n",
    "    \n",
    "    time_1=distance/speed_1\n",
    "    time_2=distance/speed_2\n",
    "    \n",
    "    total_time=time_1 + time_2\n",
    "    \n",
    "    total_distance= distance * 2\n",
    "    \n",
    "    avg_speed=total_distance/total_time\n",
    "    \n",
    "    return avg_speed\n",
    "\n",
    "print(ave_spd(18, 20, 60))\n",
    "print(ave_spd(30, 10, 30))\n",
    "print(ave_spd(30, 8, 24))"
   ]
  },
  {
   "cell_type": "markdown",
   "metadata": {},
   "source": [
    "4. The Kempner Function, applied to a composite number, permits to find the\n",
    "smallest integer greater than zero whose factorial is exactly divided by the\n",
    "number.\n",
    "kempner(6) ➞ 3\n",
    "1! = 1 % 6 &gt; 0\n",
    "2! = 2 % 6 &gt; 0\n",
    "3! = 6 % 6 === 0\n",
    "kempner(10) ➞ 5\n",
    "1! = 1 % 10 &gt; 0\n",
    "2! = 2 % 10 &gt; 0\n",
    "3! = 6 % 10 &gt; 0\n",
    "4! = 24 % 10 &gt; 0\n",
    "5! = 120 % 10 === 0\n",
    "A Kempner Function applied to a prime will always return the prime itself.\n",
    "kempner(2) ➞ 2\n",
    "kempner(5) ➞ 5\n",
    "\n",
    "Given an integer n, implement a Kempner Function.\n",
    "Examples\n",
    "kempner(6) ➞ 3\n",
    "kempner(10) ➞ 5\n",
    "kempner(2) ➞ 2"
   ]
  },
  {
   "cell_type": "code",
   "execution_count": 182,
   "metadata": {},
   "outputs": [
    {
     "name": "stdout",
     "output_type": "stream",
     "text": [
      "3\n",
      "5\n",
      "2\n",
      "5\n"
     ]
    }
   ],
   "source": [
    "def composite(num):\n",
    "    flag=False\n",
    "    if num>1:\n",
    "        for i in range(2,num):\n",
    "            if num%i==0:\n",
    "                flag=True\n",
    "    \n",
    "    return flag\n",
    "\n",
    "def factorial(num):\n",
    "    fact=1\n",
    "    for i in range(1,num+1):\n",
    "        fact*= i\n",
    "        \n",
    "    return fact\n",
    "        \n",
    "    \n",
    "def kempner(num):\n",
    "    for i in range(1,num):\n",
    "        if composite(num):\n",
    "            for j in range(1,num):\n",
    "                if factorial(j)%num==0:\n",
    "                    return j\n",
    "        else:\n",
    "            return num\n",
    "\n",
    "           \n",
    "print(kempner(6))    \n",
    "print(kempner(10))\n",
    "print(kempner(2))\n",
    "print(kempner(5))"
   ]
  },
  {
   "cell_type": "markdown",
   "metadata": {},
   "source": [
    "5. You work in a factory, and your job is to take items from a conveyor belt\n",
    "and pack them into boxes. Each box can hold a maximum of 10 kgs. Given a\n",
    "list containing the weight (in kg) of each item, how many boxes would you\n",
    "need to pack all of the items?\n",
    "Example\n",
    "boxes([2, 1, 2, 5, 4, 3, 6, 1, 1, 9, 3, 2]) ➞ 5\n",
    " Box 1 = [2, 1, 2, 5] (10kg)\n",
    " Box 2 = [4, 3] (7kg)\n",
    " Box 3 = [6, 1, 1] (8kg)\n",
    " Box 4 = [9] (9kg)\n",
    " Box 5 = [3, 2] (5kg)"
   ]
  },
  {
   "cell_type": "code",
   "execution_count": 505,
   "metadata": {},
   "outputs": [
    {
     "name": "stdout",
     "output_type": "stream",
     "text": [
      "5\n"
     ]
    }
   ],
   "source": [
    "def sum_box(box):\n",
    "    sum1=0\n",
    "    for i in box:\n",
    "        sum1+=i\n",
    "    return sum1\n",
    "\n",
    "def boxes(box):\n",
    "    count=0\n",
    "    sum1=[]\n",
    "    for i in box:\n",
    "        sum1.append(i)\n",
    "        if sum_box(sum1)<10:\n",
    "            pass\n",
    "        else:           \n",
    "            sum1=[]\n",
    "            sum1.append(i)\n",
    "            count+=1\n",
    "\n",
    "    return count\n",
    "print(boxes([2, 1, 2, 5, 4, 3, 6, 1, 1, 9, 3, 2]))"
   ]
  }
 ],
 "metadata": {
  "kernelspec": {
   "display_name": "Python 3",
   "language": "python",
   "name": "python3"
  },
  "language_info": {
   "codemirror_mode": {
    "name": "ipython",
    "version": 3
   },
   "file_extension": ".py",
   "mimetype": "text/x-python",
   "name": "python",
   "nbconvert_exporter": "python",
   "pygments_lexer": "ipython3",
   "version": "3.8.5"
  }
 },
 "nbformat": 4,
 "nbformat_minor": 4
}
